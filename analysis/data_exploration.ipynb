{
 "cells": [
  {
   "cell_type": "code",
   "execution_count": 37,
   "metadata": {},
   "outputs": [],
   "source": [
    "import pandas as pd\n",
    "import numpy as np\n",
    "import matplotlib.pyplot as plt\n",
    "%matplotlib inline\n",
    "import seaborn as sns\n",
    "\n",
    "# plots in LaTeX-style\n",
    "import tueplots\n",
    "from tueplots import bundles\n",
    "plt.rcParams.update(bundles.neurips2022())"
   ]
  },
  {
   "cell_type": "code",
   "execution_count": 43,
   "metadata": {},
   "outputs": [],
   "source": [
    "# load data\n",
    "data = pd.read_csv(\"../data/Food_Production.csv\", sep=\";\")"
   ]
  },
  {
   "attachments": {},
   "cell_type": "markdown",
   "metadata": {},
   "source": [
    "# Data exploration"
   ]
  },
  {
   "cell_type": "code",
   "execution_count": 44,
   "metadata": {},
   "outputs": [
    {
     "data": {
      "text/html": [
       "<div>\n",
       "<style scoped>\n",
       "    .dataframe tbody tr th:only-of-type {\n",
       "        vertical-align: middle;\n",
       "    }\n",
       "\n",
       "    .dataframe tbody tr th {\n",
       "        vertical-align: top;\n",
       "    }\n",
       "\n",
       "    .dataframe thead th {\n",
       "        text-align: right;\n",
       "    }\n",
       "</style>\n",
       "<table border=\"1\" class=\"dataframe\">\n",
       "  <thead>\n",
       "    <tr style=\"text-align: right;\">\n",
       "      <th></th>\n",
       "      <th>Food product</th>\n",
       "      <th>Plant based</th>\n",
       "      <th>Land Use Change</th>\n",
       "      <th>Animal Feed</th>\n",
       "      <th>Farm</th>\n",
       "      <th>Processing</th>\n",
       "      <th>Transport</th>\n",
       "      <th>Packging</th>\n",
       "      <th>Retail</th>\n",
       "      <th>Total Emissions</th>\n",
       "      <th>...</th>\n",
       "      <th>Freshwater Withdrawals per 100g Protein (liters per 100g Protein)</th>\n",
       "      <th>Freshwater Withdrawals per kilogram (liters per kilogram)</th>\n",
       "      <th>Greenhouse Gas Emissions per 1000kcal (kgCO2eq per 1000kcal)</th>\n",
       "      <th>Greenhouse Gas Emissions per 100g Protein (kgCO2eq per 100g Protein)</th>\n",
       "      <th>Land Use per 1000kcal (m2 per 1000kcal)</th>\n",
       "      <th>Land Use per Kilogram (m2 per kilogram)</th>\n",
       "      <th>Land Use per 100g Protein (m2 per 100g Protein)</th>\n",
       "      <th>Scarcity weighted Water Use per Kilogram (liters per kilogram)</th>\n",
       "      <th>Scarcity weighted Water Use per 100g protein (liters per 100g protein)</th>\n",
       "      <th>Scarcity weighted Water use per 1000kcal (liters per 1000 kilocalories)</th>\n",
       "    </tr>\n",
       "  </thead>\n",
       "  <tbody>\n",
       "    <tr>\n",
       "      <th>0</th>\n",
       "      <td>Wheat &amp; Rye (Bread)</td>\n",
       "      <td>1</td>\n",
       "      <td>0.1</td>\n",
       "      <td>0.0</td>\n",
       "      <td>0.8</td>\n",
       "      <td>0.2</td>\n",
       "      <td>0.1</td>\n",
       "      <td>0.1</td>\n",
       "      <td>0.1</td>\n",
       "      <td>1.4</td>\n",
       "      <td>...</td>\n",
       "      <td>NaN</td>\n",
       "      <td>NaN</td>\n",
       "      <td>NaN</td>\n",
       "      <td>NaN</td>\n",
       "      <td>NaN</td>\n",
       "      <td>NaN</td>\n",
       "      <td>NaN</td>\n",
       "      <td>NaN</td>\n",
       "      <td>NaN</td>\n",
       "      <td>NaN</td>\n",
       "    </tr>\n",
       "    <tr>\n",
       "      <th>1</th>\n",
       "      <td>Maize (Meal)</td>\n",
       "      <td>1</td>\n",
       "      <td>0.3</td>\n",
       "      <td>0.0</td>\n",
       "      <td>0.5</td>\n",
       "      <td>0.1</td>\n",
       "      <td>0.1</td>\n",
       "      <td>0.1</td>\n",
       "      <td>0.0</td>\n",
       "      <td>1.1</td>\n",
       "      <td>...</td>\n",
       "      <td>NaN</td>\n",
       "      <td>NaN</td>\n",
       "      <td>NaN</td>\n",
       "      <td>NaN</td>\n",
       "      <td>NaN</td>\n",
       "      <td>NaN</td>\n",
       "      <td>NaN</td>\n",
       "      <td>NaN</td>\n",
       "      <td>NaN</td>\n",
       "      <td>NaN</td>\n",
       "    </tr>\n",
       "    <tr>\n",
       "      <th>2</th>\n",
       "      <td>Barley (Beer)</td>\n",
       "      <td>1</td>\n",
       "      <td>0.0</td>\n",
       "      <td>0.0</td>\n",
       "      <td>0.2</td>\n",
       "      <td>0.1</td>\n",
       "      <td>0.0</td>\n",
       "      <td>0.5</td>\n",
       "      <td>0.3</td>\n",
       "      <td>1.1</td>\n",
       "      <td>...</td>\n",
       "      <td>NaN</td>\n",
       "      <td>NaN</td>\n",
       "      <td>NaN</td>\n",
       "      <td>NaN</td>\n",
       "      <td>NaN</td>\n",
       "      <td>NaN</td>\n",
       "      <td>NaN</td>\n",
       "      <td>NaN</td>\n",
       "      <td>NaN</td>\n",
       "      <td>NaN</td>\n",
       "    </tr>\n",
       "    <tr>\n",
       "      <th>3</th>\n",
       "      <td>Oatmeal</td>\n",
       "      <td>1</td>\n",
       "      <td>0.0</td>\n",
       "      <td>0.0</td>\n",
       "      <td>1.4</td>\n",
       "      <td>0.0</td>\n",
       "      <td>0.1</td>\n",
       "      <td>0.1</td>\n",
       "      <td>0.0</td>\n",
       "      <td>1.6</td>\n",
       "      <td>...</td>\n",
       "      <td>371.076923</td>\n",
       "      <td>482.4</td>\n",
       "      <td>0.945482</td>\n",
       "      <td>1.907692</td>\n",
       "      <td>2.897446</td>\n",
       "      <td>7.6</td>\n",
       "      <td>5.846154</td>\n",
       "      <td>18786.2</td>\n",
       "      <td>14450.92308</td>\n",
       "      <td>7162.104461</td>\n",
       "    </tr>\n",
       "    <tr>\n",
       "      <th>4</th>\n",
       "      <td>Rice</td>\n",
       "      <td>1</td>\n",
       "      <td>0.0</td>\n",
       "      <td>0.0</td>\n",
       "      <td>3.6</td>\n",
       "      <td>0.1</td>\n",
       "      <td>0.1</td>\n",
       "      <td>0.1</td>\n",
       "      <td>0.1</td>\n",
       "      <td>4.0</td>\n",
       "      <td>...</td>\n",
       "      <td>3166.760563</td>\n",
       "      <td>2248.4</td>\n",
       "      <td>1.207271</td>\n",
       "      <td>6.267606</td>\n",
       "      <td>0.759631</td>\n",
       "      <td>2.8</td>\n",
       "      <td>3.943662</td>\n",
       "      <td>49576.3</td>\n",
       "      <td>69825.77465</td>\n",
       "      <td>13449.891480</td>\n",
       "    </tr>\n",
       "  </tbody>\n",
       "</table>\n",
       "<p>5 rows × 24 columns</p>\n",
       "</div>"
      ],
      "text/plain": [
       "          Food product  Plant based  Land Use Change  Animal Feed  Farm  \\\n",
       "0  Wheat & Rye (Bread)            1              0.1          0.0   0.8   \n",
       "1         Maize (Meal)            1              0.3          0.0   0.5   \n",
       "2        Barley (Beer)            1              0.0          0.0   0.2   \n",
       "3              Oatmeal            1              0.0          0.0   1.4   \n",
       "4                 Rice            1              0.0          0.0   3.6   \n",
       "\n",
       "   Processing  Transport  Packging  Retail  Total Emissions  ...  \\\n",
       "0         0.2        0.1       0.1     0.1              1.4  ...   \n",
       "1         0.1        0.1       0.1     0.0              1.1  ...   \n",
       "2         0.1        0.0       0.5     0.3              1.1  ...   \n",
       "3         0.0        0.1       0.1     0.0              1.6  ...   \n",
       "4         0.1        0.1       0.1     0.1              4.0  ...   \n",
       "\n",
       "   Freshwater Withdrawals per 100g Protein (liters per 100g Protein)  \\\n",
       "0                                                NaN                   \n",
       "1                                                NaN                   \n",
       "2                                                NaN                   \n",
       "3                                         371.076923                   \n",
       "4                                        3166.760563                   \n",
       "\n",
       "   Freshwater Withdrawals per kilogram (liters per kilogram)  \\\n",
       "0                                                NaN           \n",
       "1                                                NaN           \n",
       "2                                                NaN           \n",
       "3                                              482.4           \n",
       "4                                             2248.4           \n",
       "\n",
       "   Greenhouse Gas Emissions per 1000kcal (kgCO2eq per 1000kcal)  \\\n",
       "0                                                NaN              \n",
       "1                                                NaN              \n",
       "2                                                NaN              \n",
       "3                                           0.945482              \n",
       "4                                           1.207271              \n",
       "\n",
       "   Greenhouse Gas Emissions per 100g Protein (kgCO2eq per 100g Protein)  \\\n",
       "0                                                NaN                      \n",
       "1                                                NaN                      \n",
       "2                                                NaN                      \n",
       "3                                           1.907692                      \n",
       "4                                           6.267606                      \n",
       "\n",
       "   Land Use per 1000kcal (m2 per 1000kcal)  \\\n",
       "0                                      NaN   \n",
       "1                                      NaN   \n",
       "2                                      NaN   \n",
       "3                                 2.897446   \n",
       "4                                 0.759631   \n",
       "\n",
       "   Land Use per Kilogram (m2 per kilogram)  \\\n",
       "0                                      NaN   \n",
       "1                                      NaN   \n",
       "2                                      NaN   \n",
       "3                                      7.6   \n",
       "4                                      2.8   \n",
       "\n",
       "   Land Use per 100g Protein (m2 per 100g Protein)  \\\n",
       "0                                              NaN   \n",
       "1                                              NaN   \n",
       "2                                              NaN   \n",
       "3                                         5.846154   \n",
       "4                                         3.943662   \n",
       "\n",
       "   Scarcity weighted Water Use per Kilogram (liters per kilogram)  \\\n",
       "0                                                NaN                \n",
       "1                                                NaN                \n",
       "2                                                NaN                \n",
       "3                                            18786.2                \n",
       "4                                            49576.3                \n",
       "\n",
       "   Scarcity weighted Water Use per 100g protein (liters per 100g protein)  \\\n",
       "0                                                NaN                        \n",
       "1                                                NaN                        \n",
       "2                                                NaN                        \n",
       "3                                        14450.92308                        \n",
       "4                                        69825.77465                        \n",
       "\n",
       "   Scarcity weighted Water use per 1000kcal (liters per 1000 kilocalories)  \n",
       "0                                                NaN                        \n",
       "1                                                NaN                        \n",
       "2                                                NaN                        \n",
       "3                                        7162.104461                        \n",
       "4                                       13449.891480                        \n",
       "\n",
       "[5 rows x 24 columns]"
      ]
     },
     "execution_count": 44,
     "metadata": {},
     "output_type": "execute_result"
    }
   ],
   "source": [
    "\n",
    "data.head()"
   ]
  },
  {
   "cell_type": "code",
   "execution_count": 45,
   "metadata": {},
   "outputs": [
    {
     "data": {
      "text/plain": [
       "Index(['Food product', 'Plant based', 'Land Use Change', 'Animal Feed', 'Farm',\n",
       "       'Processing', 'Transport', 'Packging', 'Retail', 'Total Emissions',\n",
       "       'Eutrophying Emissions per 1000kcal (gPO4eq per 1000kcal)',\n",
       "       'Eutrophying Emissions per Kilogram (gPO4eq per kilogram)',\n",
       "       'Eutrophying Emissions per 100g protein (gPO4eq per 100 grams protein)',\n",
       "       'Freshwater Withdrawals per 1000kcal (liters per 1000kcal)',\n",
       "       'Freshwater Withdrawals per 100g Protein (liters per 100g Protein)',\n",
       "       'Freshwater Withdrawals per kilogram (liters per kilogram)',\n",
       "       'Greenhouse Gas Emissions per 1000kcal (kgCO2eq per 1000kcal)',\n",
       "       'Greenhouse Gas Emissions per 100g Protein (kgCO2eq per 100g Protein)',\n",
       "       'Land Use per 1000kcal (m2 per 1000kcal)',\n",
       "       'Land Use per Kilogram (m2 per kilogram)',\n",
       "       'Land Use per 100g Protein (m2 per 100g Protein)',\n",
       "       'Scarcity weighted Water Use per Kilogram (liters per kilogram)',\n",
       "       'Scarcity weighted Water Use per 100g protein (liters per 100g protein)',\n",
       "       'Scarcity weighted Water use per 1000kcal (liters per 1000 kilocalories)'],\n",
       "      dtype='object')"
      ]
     },
     "execution_count": 45,
     "metadata": {},
     "output_type": "execute_result"
    }
   ],
   "source": [
    "data.columns"
   ]
  },
  {
   "cell_type": "code",
   "execution_count": 46,
   "metadata": {},
   "outputs": [],
   "source": [
    "# Imputation of the missing values via arithmetic mean\n",
    "data = data.fillna(data.mean(numeric_only=True))"
   ]
  },
  {
   "attachments": {},
   "cell_type": "markdown",
   "metadata": {},
   "source": [
    "## Plots\n"
   ]
  },
  {
   "cell_type": "code",
   "execution_count": 79,
   "metadata": {},
   "outputs": [
    {
     "data": {
      "image/png": "[encoded data removed]",
      "image/svg+xml": "<?xml version=\"1.0\" encoding=\"utf-8\" standalone=\"no\"?>\n<!DOCTYPE svg PUBLIC \"-//W3C//DTD SVG 1.1//EN\"\n  \"http://www.w3.org/Graphics/SVG/1.1/DTD/svg11.dtd\">\n<svg height=\"118.53025pt\" version=\"1.1\" viewBox=\"0 0 194.15952 118.53025\" width=\"194.15952pt\" xmlns=\"http://www.w3.org/2000/svg\" xmlns:xlink=\"http://www.w3.org/1999/xlink\">\n <metadata>\n  <rdf:RDF xmlns:cc=\"http://creativecommons.org/ns#\" xmlns:dc=\"http://purl.org/dc/elements/1.1/\" xmlns:rdf=\"http://www.w3.org/1999/02/22-rdf-syntax-ns#\">\n   <cc:Work>\n    <dc:type rdf:resource=\"http://purl.org/dc/dcmitype/StillImage\"/>\n    <dc:date>2023-01-08T16:15:30.098227</dc:date>\n    <dc:format>image/svg+xml</dc:format>\n    <dc:creator>\n     <cc:Agent>\n      <dc:title>Matplotlib v3.4.3, https://matplotlib.org/</dc:title>\n     </cc:Agent>\n    </dc:creator>\n   </cc:Work>\n  </rdf:RDF>\n </metadata>\n <defs>\n  <style type=\"text/css\">*{stroke-linecap:butt;stroke-linejoin:round;}</style>\n </defs>\n <g id=\"figure_1\">\n  <g id=\"patch_1\">\n   <path d=\"M 0 118.53025 \nL 194.15952 118.53025 \nL 194.15952 0 \nL 0 0 \nz\n\" style=\"fill:none;\"/>\n  </g>\n  <g id=\"axes_1\">\n   <g id=\"patch_2\">\n    <path d=\"M 28.042738 92.192012 \nL 193.07952 92.192012 \nL 193.07952 1.08 \nL 28.042738 1.08 \nz\n\" style=\"fill:#ffffff;\"/>\n   </g>\n   <g id=\"patch_3\">\n    <path clip-path=\"url(#p90a5e0796a)\" d=\"M 35.54441 92.192012 \nL 39.661489 92.192012 \nL 39.661489 5.418667 \nL 35.54441 5.418667 \nz\n\" style=\"fill:#1f77b4;fill-opacity:0.5;stroke:#000000;stroke-linejoin:miter;\"/>\n   </g>\n   <g id=\"patch_4\">\n    <path clip-path=\"url(#p90a5e0796a)\" d=\"M 39.661489 92.192012 \nL 43.778568 92.192012 \nL 43.778568 80.359283 \nL 39.661489 80.359283 \nz\n\" style=\"fill:#1f77b4;fill-opacity:0.5;stroke:#000000;stroke-linejoin:miter;\"/>\n   </g>\n   <g id=\"patch_5\">\n    <path clip-path=\"url(#p90a5e0796a)\" d=\"M 43.778568 92.192012 \nL 47.895647 92.192012 \nL 47.895647 80.359283 \nL 43.778568 80.359283 \nz\n\" style=\"fill:#1f77b4;fill-opacity:0.5;stroke:#000000;stroke-linejoin:miter;\"/>\n   </g>\n   <g id=\"patch_6\">\n    <path clip-path=\"url(#p90a5e0796a)\" d=\"M 47.895647 92.192012 \nL 52.012727 92.192012 \nL 52.012727 84.303526 \nL 47.895647 84.303526 \nz\n\" style=\"fill:#1f77b4;fill-opacity:0.5;stroke:#000000;stroke-linejoin:miter;\"/>\n   </g>\n   <g id=\"patch_7\">\n    <path clip-path=\"url(#p90a5e0796a)\" d=\"M 52.012727 92.192012 \nL 56.129806 92.192012 \nL 56.129806 88.247769 \nL 52.012727 88.247769 \nz\n\" style=\"fill:#1f77b4;fill-opacity:0.5;stroke:#000000;stroke-linejoin:miter;\"/>\n   </g>\n   <g id=\"patch_8\">\n    <path clip-path=\"url(#p90a5e0796a)\" d=\"M 56.129806 92.192012 \nL 60.246885 92.192012 \nL 60.246885 92.192012 \nL 56.129806 92.192012 \nz\n\" style=\"fill:#1f77b4;fill-opacity:0.5;stroke:#000000;stroke-linejoin:miter;\"/>\n   </g>\n   <g id=\"patch_9\">\n    <path clip-path=\"url(#p90a5e0796a)\" d=\"M 60.246885 92.192012 \nL 64.363964 92.192012 \nL 64.363964 92.192012 \nL 60.246885 92.192012 \nz\n\" style=\"fill:#1f77b4;fill-opacity:0.5;stroke:#000000;stroke-linejoin:miter;\"/>\n   </g>\n   <g id=\"patch_10\">\n    <path clip-path=\"url(#p90a5e0796a)\" d=\"M 64.363964 92.192012 \nL 68.481043 92.192012 \nL 68.481043 92.192012 \nL 64.363964 92.192012 \nz\n\" style=\"fill:#1f77b4;fill-opacity:0.5;stroke:#000000;stroke-linejoin:miter;\"/>\n   </g>\n   <g id=\"patch_11\">\n    <path clip-path=\"url(#p90a5e0796a)\" d=\"M 68.481043 92.192012 \nL 72.598123 92.192012 \nL 72.598123 92.192012 \nL 68.481043 92.192012 \nz\n\" style=\"fill:#1f77b4;fill-opacity:0.5;stroke:#000000;stroke-linejoin:miter;\"/>\n   </g>\n   <g id=\"patch_12\">\n    <path clip-path=\"url(#p90a5e0796a)\" d=\"M 72.598123 92.192012 \nL 76.715202 92.192012 \nL 76.715202 88.247769 \nL 72.598123 88.247769 \nz\n\" style=\"fill:#1f77b4;fill-opacity:0.5;stroke:#000000;stroke-linejoin:miter;\"/>\n   </g>\n   <g id=\"patch_13\">\n    <path clip-path=\"url(#p90a5e0796a)\" d=\"M 42.11153 92.192012 \nL 56.458162 92.192012 \nL 56.458162 72.470797 \nL 42.11153 72.470797 \nz\n\" style=\"fill:#ff7f0e;fill-opacity:0.5;stroke:#000000;stroke-linejoin:miter;\"/>\n   </g>\n   <g id=\"patch_14\">\n    <path clip-path=\"url(#p90a5e0796a)\" d=\"M 56.458162 92.192012 \nL 70.804794 92.192012 \nL 70.804794 88.247769 \nL 56.458162 88.247769 \nz\n\" style=\"fill:#ff7f0e;fill-opacity:0.5;stroke:#000000;stroke-linejoin:miter;\"/>\n   </g>\n   <g id=\"patch_15\">\n    <path clip-path=\"url(#p90a5e0796a)\" d=\"M 70.804794 92.192012 \nL 85.151425 92.192012 \nL 85.151425 88.247769 \nL 70.804794 88.247769 \nz\n\" style=\"fill:#ff7f0e;fill-opacity:0.5;stroke:#000000;stroke-linejoin:miter;\"/>\n   </g>\n   <g id=\"patch_16\">\n    <path clip-path=\"url(#p90a5e0796a)\" d=\"M 85.151425 92.192012 \nL 99.498057 92.192012 \nL 99.498057 80.359283 \nL 85.151425 80.359283 \nz\n\" style=\"fill:#ff7f0e;fill-opacity:0.5;stroke:#000000;stroke-linejoin:miter;\"/>\n   </g>\n   <g id=\"patch_17\">\n    <path clip-path=\"url(#p90a5e0796a)\" d=\"M 99.498057 92.192012 \nL 113.844689 92.192012 \nL 113.844689 92.192012 \nL 99.498057 92.192012 \nz\n\" style=\"fill:#ff7f0e;fill-opacity:0.5;stroke:#000000;stroke-linejoin:miter;\"/>\n   </g>\n   <g id=\"patch_18\">\n    <path clip-path=\"url(#p90a5e0796a)\" d=\"M 113.844689 92.192012 \nL 128.191321 92.192012 \nL 128.191321 92.192012 \nL 113.844689 92.192012 \nz\n\" style=\"fill:#ff7f0e;fill-opacity:0.5;stroke:#000000;stroke-linejoin:miter;\"/>\n   </g>\n   <g id=\"patch_19\">\n    <path clip-path=\"url(#p90a5e0796a)\" d=\"M 128.191321 92.192012 \nL 142.537953 92.192012 \nL 142.537953 92.192012 \nL 128.191321 92.192012 \nz\n\" style=\"fill:#ff7f0e;fill-opacity:0.5;stroke:#000000;stroke-linejoin:miter;\"/>\n   </g>\n   <g id=\"patch_20\">\n    <path clip-path=\"url(#p90a5e0796a)\" d=\"M 142.537953 92.192012 \nL 156.884584 92.192012 \nL 156.884584 92.192012 \nL 142.537953 92.192012 \nz\n\" style=\"fill:#ff7f0e;fill-opacity:0.5;stroke:#000000;stroke-linejoin:miter;\"/>\n   </g>\n   <g id=\"patch_21\">\n    <path clip-path=\"url(#p90a5e0796a)\" d=\"M 156.884584 92.192012 \nL 171.231216 92.192012 \nL 171.231216 92.192012 \nL 156.884584 92.192012 \nz\n\" style=\"fill:#ff7f0e;fill-opacity:0.5;stroke:#000000;stroke-linejoin:miter;\"/>\n   </g>\n   <g id=\"patch_22\">\n    <path clip-path=\"url(#p90a5e0796a)\" d=\"M 171.231216 92.192012 \nL 185.577848 92.192012 \nL 185.577848 88.247769 \nL 171.231216 88.247769 \nz\n\" style=\"fill:#ff7f0e;fill-opacity:0.5;stroke:#000000;stroke-linejoin:miter;\"/>\n   </g>\n   <g id=\"matplotlib.axis_1\">\n    <g id=\"xtick_1\">\n     <g id=\"line2d_1\">\n      <defs>\n       <path d=\"M 0 0 \nL 0 3.5 \n\" id=\"mccae2aba3b\" style=\"stroke:#000000;stroke-width:0.8;\"/>\n      </defs>\n      <g>\n       <use style=\"stroke:#000000;stroke-width:0.8;\" x=\"35.039247\" xlink:href=\"#mccae2aba3b\" y=\"92.192012\"/>\n      </g>\n     </g>\n     <g id=\"text_1\">\n      <!-- $\\mathdefault{0}$ -->\n      <g transform=\"translate(33.053628 103.920207)scale(0.07 -0.07)\">\n       <defs>\n        <path d=\"M 2688 2038 \nC 2688 2430 2682 3099 2413 3613 \nC 2176 4063 1798 4224 1466 4224 \nC 1158 4224 768 4082 525 3620 \nC 269 3137 243 2539 243 2038 \nC 243 1671 250 1112 448 623 \nC 723 -39 1216 -128 1466 -128 \nC 1760 -128 2208 -7 2470 604 \nC 2662 1048 2688 1568 2688 2038 \nz\nM 1466 -26 \nC 1056 -26 813 328 723 816 \nC 653 1196 653 1749 653 2109 \nC 653 2604 653 3015 736 3407 \nC 858 3954 1216 4121 1466 4121 \nC 1728 4121 2067 3947 2189 3420 \nC 2272 3054 2278 2623 2278 2109 \nC 2278 1691 2278 1176 2202 797 \nC 2067 96 1690 -26 1466 -26 \nz\n\" id=\"CMR17-30\" transform=\"scale(0.015625)\"/>\n       </defs>\n       <use transform=\"scale(0.996264)\" xlink:href=\"#CMR17-30\"/>\n      </g>\n     </g>\n    </g>\n    <g id=\"xtick_2\">\n     <g id=\"line2d_2\">\n      <g>\n       <use style=\"stroke:#000000;stroke-width:0.8;\" x=\"60.297401\" xlink:href=\"#mccae2aba3b\" y=\"92.192012\"/>\n      </g>\n     </g>\n     <g id=\"text_2\">\n      <!-- $\\mathdefault{10}$ -->\n      <g transform=\"translate(56.326164 103.920207)scale(0.07 -0.07)\">\n       <defs>\n        <path d=\"M 1702 4083 \nC 1702 4217 1696 4224 1606 4224 \nC 1357 3927 979 3833 621 3820 \nC 602 3820 570 3820 563 3808 \nC 557 3795 557 3782 557 3648 \nC 755 3648 1088 3686 1344 3839 \nL 1344 467 \nC 1344 243 1331 166 781 166 \nL 589 166 \nL 589 0 \nC 896 6 1216 12 1523 12 \nC 1830 12 2150 6 2458 0 \nL 2458 166 \nL 2266 166 \nC 1715 166 1702 236 1702 467 \nL 1702 4083 \nz\n\" id=\"CMR17-31\" transform=\"scale(0.015625)\"/>\n       </defs>\n       <use transform=\"scale(0.996264)\" xlink:href=\"#CMR17-31\"/>\n       <use transform=\"translate(45.690477 0)scale(0.996264)\" xlink:href=\"#CMR17-30\"/>\n      </g>\n     </g>\n    </g>\n    <g id=\"xtick_3\">\n     <g id=\"line2d_3\">\n      <g>\n       <use style=\"stroke:#000000;stroke-width:0.8;\" x=\"85.555556\" xlink:href=\"#mccae2aba3b\" y=\"92.192012\"/>\n      </g>\n     </g>\n     <g id=\"text_3\">\n      <!-- $\\mathdefault{20}$ -->\n      <g transform=\"translate(81.584318 103.920207)scale(0.07 -0.07)\">\n       <defs>\n        <path d=\"M 2669 990 \nL 2554 990 \nC 2490 537 2438 460 2413 422 \nC 2381 371 1920 371 1830 371 \nL 602 371 \nC 832 620 1280 1073 1824 1596 \nC 2214 1966 2669 2400 2669 3033 \nC 2669 3788 2067 4224 1395 4224 \nC 691 4224 262 3603 262 3027 \nC 262 2777 448 2745 525 2745 \nC 589 2745 781 2783 781 3007 \nC 781 3206 614 3264 525 3264 \nC 486 3264 448 3257 422 3244 \nC 544 3788 915 4057 1306 4057 \nC 1862 4057 2227 3616 2227 3033 \nC 2227 2477 1901 1998 1536 1583 \nL 262 147 \nL 262 0 \nL 2515 0 \nL 2669 990 \nz\n\" id=\"CMR17-32\" transform=\"scale(0.015625)\"/>\n       </defs>\n       <use transform=\"scale(0.996264)\" xlink:href=\"#CMR17-32\"/>\n       <use transform=\"translate(45.690477 0)scale(0.996264)\" xlink:href=\"#CMR17-30\"/>\n      </g>\n     </g>\n    </g>\n    <g id=\"xtick_4\">\n     <g id=\"line2d_4\">\n      <g>\n       <use style=\"stroke:#000000;stroke-width:0.8;\" x=\"110.813711\" xlink:href=\"#mccae2aba3b\" y=\"92.192012\"/>\n      </g>\n     </g>\n     <g id=\"text_4\">\n      <!-- $\\mathdefault{30}$ -->\n      <g transform=\"translate(106.842473 103.920207)scale(0.07 -0.07)\">\n       <defs>\n        <path d=\"M 1414 2176 \nC 1984 2176 2234 1673 2234 1094 \nC 2234 322 1824 25 1453 25 \nC 1114 25 563 193 390 691 \nC 422 678 454 678 486 678 \nC 640 678 755 780 755 947 \nC 755 1132 614 1216 486 1216 \nC 378 1216 211 1164 211 927 \nC 211 335 787 -128 1466 -128 \nC 2176 -128 2720 432 2720 1087 \nC 2720 1718 2208 2176 1600 2246 \nC 2086 2347 2554 2776 2554 3353 \nC 2554 3856 2048 4224 1472 4224 \nC 890 4224 378 3862 378 3347 \nC 378 3123 544 3084 627 3084 \nC 762 3084 877 3167 877 3334 \nC 877 3500 762 3584 627 3584 \nC 602 3584 570 3584 544 3571 \nC 730 3999 1235 4076 1459 4076 \nC 1683 4076 2106 3966 2106 3347 \nC 2106 3167 2080 2851 1862 2574 \nC 1670 2329 1453 2316 1242 2297 \nC 1210 2297 1062 2284 1037 2284 \nC 992 2278 966 2272 966 2227 \nC 966 2182 973 2176 1101 2176 \nL 1414 2176 \nz\n\" id=\"CMR17-33\" transform=\"scale(0.015625)\"/>\n       </defs>\n       <use transform=\"scale(0.996264)\" xlink:href=\"#CMR17-33\"/>\n       <use transform=\"translate(45.690477 0)scale(0.996264)\" xlink:href=\"#CMR17-30\"/>\n      </g>\n     </g>\n    </g>\n    <g id=\"xtick_5\">\n     <g id=\"line2d_5\">\n      <g>\n       <use style=\"stroke:#000000;stroke-width:0.8;\" x=\"136.071865\" xlink:href=\"#mccae2aba3b\" y=\"92.192012\"/>\n      </g>\n     </g>\n     <g id=\"text_5\">\n      <!-- $\\mathdefault{40}$ -->\n      <g transform=\"translate(132.100628 103.920207)scale(0.07 -0.07)\">\n       <defs>\n        <path d=\"M 2150 4147 \nC 2150 4281 2144 4288 2029 4288 \nL 128 1254 \nL 128 1088 \nL 1779 1088 \nL 1779 460 \nC 1779 230 1766 166 1318 166 \nL 1197 166 \nL 1197 0 \nC 1402 12 1747 12 1965 12 \nC 2182 12 2528 12 2733 0 \nL 2733 166 \nL 2611 166 \nC 2163 166 2150 230 2150 460 \nL 2150 1088 \nL 2803 1088 \nL 2803 1254 \nL 2150 1254 \nL 2150 4147 \nz\nM 1798 3723 \nL 1798 1254 \nL 256 1254 \nL 1798 3723 \nz\n\" id=\"CMR17-34\" transform=\"scale(0.015625)\"/>\n       </defs>\n       <use transform=\"scale(0.996264)\" xlink:href=\"#CMR17-34\"/>\n       <use transform=\"translate(45.690477 0)scale(0.996264)\" xlink:href=\"#CMR17-30\"/>\n      </g>\n     </g>\n    </g>\n    <g id=\"xtick_6\">\n     <g id=\"line2d_6\">\n      <g>\n       <use style=\"stroke:#000000;stroke-width:0.8;\" x=\"161.33002\" xlink:href=\"#mccae2aba3b\" y=\"92.192012\"/>\n      </g>\n     </g>\n     <g id=\"text_6\">\n      <!-- $\\mathdefault{50}$ -->\n      <g transform=\"translate(157.358782 103.920207)scale(0.07 -0.07)\">\n       <defs>\n        <path d=\"M 730 3750 \nC 794 3724 1056 3641 1325 3641 \nC 1920 3641 2246 3961 2432 4140 \nC 2432 4191 2432 4224 2394 4224 \nC 2387 4224 2374 4224 2323 4198 \nC 2099 4102 1837 4032 1517 4032 \nC 1325 4032 1037 4055 723 4191 \nC 653 4224 640 4224 634 4224 \nC 602 4224 595 4217 595 4090 \nL 595 2231 \nC 595 2113 595 2080 659 2080 \nC 691 2080 704 2093 736 2139 \nC 941 2435 1222 2560 1542 2560 \nC 1766 2560 2246 2415 2246 1293 \nC 2246 1087 2246 716 2054 422 \nC 1894 159 1645 25 1370 25 \nC 947 25 518 319 403 812 \nC 429 806 480 793 506 793 \nC 589 793 749 838 749 1036 \nC 749 1209 627 1280 506 1280 \nC 358 1280 262 1190 262 1011 \nC 262 454 704 -128 1382 -128 \nC 2042 -128 2669 441 2669 1267 \nC 2669 2054 2170 2662 1549 2662 \nC 1222 2662 947 2540 730 2304 \nL 730 3750 \nz\n\" id=\"CMR17-35\" transform=\"scale(0.015625)\"/>\n       </defs>\n       <use transform=\"scale(0.996264)\" xlink:href=\"#CMR17-35\"/>\n       <use transform=\"translate(45.690477 0)scale(0.996264)\" xlink:href=\"#CMR17-30\"/>\n      </g>\n     </g>\n    </g>\n    <g id=\"xtick_7\">\n     <g id=\"line2d_7\">\n      <g>\n       <use style=\"stroke:#000000;stroke-width:0.8;\" x=\"186.588174\" xlink:href=\"#mccae2aba3b\" y=\"92.192012\"/>\n      </g>\n     </g>\n     <g id=\"text_7\">\n      <!-- $\\mathdefault{60}$ -->\n      <g transform=\"translate(182.616937 103.920207)scale(0.07 -0.07)\">\n       <defs>\n        <path d=\"M 678 2198 \nC 678 3712 1395 4076 1811 4076 \nC 1946 4076 2272 4049 2400 3782 \nC 2298 3782 2106 3782 2106 3558 \nC 2106 3385 2246 3328 2336 3328 \nC 2394 3328 2566 3353 2566 3571 \nC 2566 3987 2246 4224 1805 4224 \nC 1043 4224 243 3411 243 2011 \nC 243 257 966 -128 1478 -128 \nC 2099 -128 2688 431 2688 1295 \nC 2688 2101 2170 2688 1517 2688 \nC 1126 2688 838 2430 678 1979 \nL 678 2198 \nz\nM 1478 25 \nC 691 25 691 1212 691 1450 \nC 691 1914 909 2585 1504 2585 \nC 1613 2585 1926 2585 2138 2140 \nC 2253 1889 2253 1624 2253 1302 \nC 2253 954 2253 696 2118 438 \nC 1978 173 1773 25 1478 25 \nz\n\" id=\"CMR17-36\" transform=\"scale(0.015625)\"/>\n       </defs>\n       <use transform=\"scale(0.996264)\" xlink:href=\"#CMR17-36\"/>\n       <use transform=\"translate(45.690477 0)scale(0.996264)\" xlink:href=\"#CMR17-30\"/>\n      </g>\n     </g>\n    </g>\n    <g id=\"text_8\">\n     <!-- Total Emissions -->\n     <g transform=\"translate(81.900509 115.509104)scale(0.09 -0.09)\">\n      <defs>\n       <path d=\"M 1626 3955 \nL 1626 765 \nC 1626 223 1555 153 1024 121 \nL 1024 0 \nL 2893 0 \nL 2893 121 \nC 2368 147 2278 230 2278 695 \nL 2278 3955 \nL 2624 3955 \nC 3354 3955 3494 3840 3642 3138 \nL 3795 3138 \nL 3757 4224 \nL 147 4224 \nL 109 3138 \nL 262 3138 \nC 416 3834 563 3955 1280 3955 \nL 1626 3955 \nz\n\" id=\"NimbusRomNo9L-Regu-54\" transform=\"scale(0.015625)\"/>\n       <path d=\"M 1600 2944 \nC 768 2944 186 2329 186 1446 \nC 186 582 781 -64 1587 -64 \nC 2394 -64 3008 614 3008 1497 \nC 3008 2336 2419 2944 1600 2944 \nz\nM 1517 2764 \nC 2054 2764 2432 2150 2432 1273 \nC 2432 550 2144 115 1664 115 \nC 1414 115 1178 268 1043 524 \nC 864 857 762 1305 762 1760 \nC 762 2368 1062 2764 1517 2764 \nz\n\" id=\"NimbusRomNo9L-Regu-6f\" transform=\"scale(0.015625)\"/>\n       <path d=\"M 1632 2880 \nL 986 2880 \nL 986 3622 \nC 986 3686 979 3705 941 3705 \nC 896 3648 858 3590 813 3526 \nC 570 3174 294 2867 192 2841 \nC 122 2796 83 2751 83 2719 \nC 83 2700 90 2687 109 2675 \nL 448 2675 \nL 448 748 \nC 448 211 640 -64 1018 -64 \nC 1331 -64 1574 89 1786 422 \nL 1702 492 \nC 1568 332 1459 268 1318 268 \nC 1082 268 986 441 986 844 \nL 986 2675 \nL 1632 2675 \nL 1632 2880 \nz\n\" id=\"NimbusRomNo9L-Regu-74\" transform=\"scale(0.015625)\"/>\n       <path d=\"M 2829 422 \nC 2720 332 2643 300 2547 300 \nC 2400 300 2355 390 2355 672 \nL 2355 1920 \nC 2355 2252 2323 2438 2227 2592 \nC 2086 2822 1811 2944 1434 2944 \nC 832 2944 358 2630 358 2227 \nC 358 2080 486 1952 634 1952 \nC 787 1952 922 2080 922 2220 \nC 922 2246 915 2278 909 2323 \nC 896 2380 890 2432 890 2476 \nC 890 2649 1094 2790 1350 2790 \nC 1664 2790 1837 2604 1837 2259 \nL 1837 1868 \nC 851 1472 742 1420 467 1177 \nC 326 1049 237 832 237 620 \nC 237 217 518 -64 909 -64 \nC 1190 -64 1453 70 1843 403 \nC 1875 70 1990 -64 2253 -64 \nC 2470 -64 2605 12 2829 256 \nL 2829 422 \nz\nM 1837 787 \nC 1837 588 1805 531 1670 454 \nC 1517 364 1338 307 1203 307 \nC 979 307 800 524 800 800 \nL 800 825 \nC 800 1203 1062 1433 1837 1715 \nL 1837 787 \nz\n\" id=\"NimbusRomNo9L-Regu-61\" transform=\"scale(0.015625)\"/>\n       <path d=\"M 122 3987 \nL 160 3987 \nC 230 3993 307 4000 358 4000 \nC 563 4000 627 3910 627 3609 \nL 627 556 \nC 627 211 538 128 134 96 \nL 134 0 \nL 1645 0 \nL 1645 96 \nC 1242 121 1165 185 1165 537 \nL 1165 4358 \nL 1139 4371 \nC 806 4262 563 4198 122 4089 \nL 122 3987 \nz\n\" id=\"NimbusRomNo9L-Regu-6c\" transform=\"scale(0.015625)\"/>\n       <path d=\"M 3821 1087 \nL 3642 1087 \nC 3322 391 3046 236 2131 236 \nL 1958 236 \nC 1645 236 1376 269 1331 314 \nC 1299 333 1286 404 1286 513 \nL 1286 2105 \nL 2272 2105 \nC 2797 2105 2893 2021 2976 1487 \nL 3123 1487 \nL 3123 2966 \nL 2976 2966 \nC 2931 2708 2906 2613 2835 2525 \nC 2752 2418 2573 2368 2272 2368 \nL 1286 2368 \nL 1286 3766 \nC 1286 3942 1325 3980 1498 3980 \nL 2362 3980 \nC 3085 3980 3226 3886 3334 3319 \nL 3494 3319 \nL 3475 4224 \nL 77 4224 \nL 77 4102 \nC 550 4064 634 3975 634 3528 \nL 634 695 \nC 634 249 544 153 77 121 \nL 77 0 \nL 3533 0 \nL 3821 1087 \nz\n\" id=\"NimbusRomNo9L-Regu-45\" transform=\"scale(0.015625)\"/>\n       <path d=\"M 122 2547 \nC 205 2566 256 2572 326 2572 \nC 493 2572 550 2470 550 2163 \nL 550 544 \nC 550 198 461 102 102 96 \nL 102 0 \nL 1523 0 \nL 1523 96 \nC 1184 108 1088 179 1088 428 \nL 1088 2233 \nC 1088 2246 1139 2310 1184 2355 \nC 1344 2502 1619 2611 1843 2611 \nC 2125 2611 2266 2387 2266 1939 \nL 2266 550 \nC 2266 192 2195 121 1830 96 \nL 1830 0 \nL 3264 0 \nL 3264 96 \nC 2899 102 2803 211 2803 608 \nL 2803 2220 \nC 2995 2496 3206 2611 3501 2611 \nC 3866 2611 3981 2438 3981 1907 \nL 3981 556 \nC 3981 192 3930 140 3558 96 \nL 3558 0 \nL 4960 0 \nL 4960 96 \nL 4794 108 \nC 4602 121 4518 236 4518 486 \nL 4518 1804 \nC 4518 2560 4269 2944 3776 2944 \nC 3405 2944 3078 2777 2733 2406 \nC 2618 2771 2400 2944 2054 2944 \nC 1773 2944 1594 2854 1062 2451 \nL 1062 2931 \nL 1018 2944 \nC 691 2822 474 2751 122 2655 \nL 122 2547 \nz\n\" id=\"NimbusRomNo9L-Regu-6d\" transform=\"scale(0.015625)\"/>\n       <path d=\"M 1120 2944 \nL 128 2592 \nL 128 2496 \nL 179 2502 \nC 256 2515 339 2521 397 2521 \nC 550 2521 608 2419 608 2137 \nL 608 652 \nC 608 192 544 121 102 96 \nL 102 0 \nL 1619 0 \nL 1619 96 \nC 1197 128 1146 192 1146 652 \nL 1146 2924 \nL 1120 2944 \nz\nM 819 4352 \nC 646 4352 499 4204 499 4025 \nC 499 3846 640 3699 819 3699 \nC 1005 3699 1152 3839 1152 4025 \nC 1152 4204 1005 4352 819 4352 \nz\n\" id=\"NimbusRomNo9L-Regu-69\" transform=\"scale(0.015625)\"/>\n       <path d=\"M 2016 2009 \nL 1990 2880 \nL 1920 2880 \nL 1907 2867 \nC 1850 2822 1843 2815 1818 2815 \nC 1779 2815 1715 2828 1645 2860 \nC 1504 2918 1363 2944 1197 2944 \nC 691 2944 326 2617 326 2155 \nC 326 1796 531 1539 1075 1231 \nL 1446 1019 \nC 1670 891 1779 737 1779 538 \nC 1779 256 1574 76 1248 76 \nC 1030 76 832 160 710 301 \nC 576 461 518 609 435 974 \nL 333 974 \nL 333 -26 \nL 416 -26 \nC 461 38 486 51 563 51 \nC 621 51 710 38 858 0 \nC 1037 -39 1210 -64 1325 -64 \nC 1818 -64 2227 307 2227 756 \nC 2227 1077 2074 1289 1690 1520 \nL 998 1930 \nC 819 2033 723 2193 723 2366 \nC 723 2623 922 2803 1216 2803 \nC 1581 2803 1773 2585 1920 2014 \nL 2016 2009 \nz\n\" id=\"NimbusRomNo9L-Regu-73\" transform=\"scale(0.015625)\"/>\n       <path d=\"M 102 2547 \nC 141 2566 205 2572 275 2572 \nC 454 2572 512 2476 512 2163 \nL 512 576 \nC 512 211 442 121 115 96 \nL 115 0 \nL 1472 0 \nL 1472 96 \nC 1146 121 1050 198 1050 428 \nL 1050 2227 \nC 1357 2515 1498 2591 1709 2591 \nC 2022 2591 2176 2393 2176 1971 \nL 2176 633 \nC 2176 230 2093 121 1773 96 \nL 1773 0 \nL 3104 0 \nL 3104 96 \nC 2790 128 2714 204 2714 518 \nL 2714 1984 \nC 2714 2585 2432 2944 1958 2944 \nC 1664 2944 1466 2835 1030 2425 \nL 1030 2931 \nL 986 2944 \nC 672 2828 454 2758 102 2655 \nL 102 2547 \nz\n\" id=\"NimbusRomNo9L-Regu-6e\" transform=\"scale(0.015625)\"/>\n      </defs>\n      <use transform=\"scale(0.996264)\" xlink:href=\"#NimbusRomNo9L-Regu-54\"/>\n      <use transform=\"translate(52.902187 0)scale(0.996264)\" xlink:href=\"#NimbusRomNo9L-Regu-6f\"/>\n      <use transform=\"translate(102.715388 0)scale(0.996264)\" xlink:href=\"#NimbusRomNo9L-Regu-74\"/>\n      <use transform=\"translate(130.410558 0)scale(0.996264)\" xlink:href=\"#NimbusRomNo9L-Regu-61\"/>\n      <use transform=\"translate(174.644126 0)scale(0.996264)\" xlink:href=\"#NimbusRomNo9L-Regu-6c\"/>\n      <use transform=\"translate(227.245896 0)scale(0.996264)\" xlink:href=\"#NimbusRomNo9L-Regu-45\"/>\n      <use transform=\"translate(288.117527 0)scale(0.996264)\" xlink:href=\"#NimbusRomNo9L-Regu-6d\"/>\n      <use transform=\"translate(365.625897 0)scale(0.996264)\" xlink:href=\"#NimbusRomNo9L-Regu-69\"/>\n      <use transform=\"translate(393.321067 0)scale(0.996264)\" xlink:href=\"#NimbusRomNo9L-Regu-73\"/>\n      <use transform=\"translate(432.074773 0)scale(0.996264)\" xlink:href=\"#NimbusRomNo9L-Regu-73\"/>\n      <use transform=\"translate(470.828479 0)scale(0.996264)\" xlink:href=\"#NimbusRomNo9L-Regu-69\"/>\n      <use transform=\"translate(498.523649 0)scale(0.996264)\" xlink:href=\"#NimbusRomNo9L-Regu-6f\"/>\n      <use transform=\"translate(548.336849 0)scale(0.996264)\" xlink:href=\"#NimbusRomNo9L-Regu-6e\"/>\n      <use transform=\"translate(598.150049 0)scale(0.996264)\" xlink:href=\"#NimbusRomNo9L-Regu-73\"/>\n     </g>\n    </g>\n   </g>\n   <g id=\"matplotlib.axis_2\">\n    <g id=\"ytick_1\">\n     <g id=\"line2d_8\">\n      <defs>\n       <path d=\"M 0 0 \nL -3.5 0 \n\" id=\"m0d94d74f1f\" style=\"stroke:#000000;stroke-width:0.8;\"/>\n      </defs>\n      <g>\n       <use style=\"stroke:#000000;stroke-width:0.8;\" x=\"28.042738\" xlink:href=\"#m0d94d74f1f\" y=\"92.192012\"/>\n      </g>\n     </g>\n     <g id=\"text_9\">\n      <!-- $\\mathdefault{0}$ -->\n      <g transform=\"translate(17.0715 94.556109)scale(0.07 -0.07)\">\n       <use transform=\"scale(0.996264)\" xlink:href=\"#CMR17-30\"/>\n      </g>\n     </g>\n    </g>\n    <g id=\"ytick_2\">\n     <g id=\"line2d_9\">\n      <g>\n       <use style=\"stroke:#000000;stroke-width:0.8;\" x=\"28.042738\" xlink:href=\"#m0d94d74f1f\" y=\"72.470797\"/>\n      </g>\n     </g>\n     <g id=\"text_10\">\n      <!-- $\\mathdefault{5}$ -->\n      <g transform=\"translate(17.0715 74.834895)scale(0.07 -0.07)\">\n       <use transform=\"scale(0.996264)\" xlink:href=\"#CMR17-35\"/>\n      </g>\n     </g>\n    </g>\n    <g id=\"ytick_3\">\n     <g id=\"line2d_10\">\n      <g>\n       <use style=\"stroke:#000000;stroke-width:0.8;\" x=\"28.042738\" xlink:href=\"#m0d94d74f1f\" y=\"52.749582\"/>\n      </g>\n     </g>\n     <g id=\"text_11\">\n      <!-- $\\mathdefault{10}$ -->\n      <g transform=\"translate(13.100263 55.11368)scale(0.07 -0.07)\">\n       <use transform=\"scale(0.996264)\" xlink:href=\"#CMR17-31\"/>\n       <use transform=\"translate(45.690477 0)scale(0.996264)\" xlink:href=\"#CMR17-30\"/>\n      </g>\n     </g>\n    </g>\n    <g id=\"ytick_4\">\n     <g id=\"line2d_11\">\n      <g>\n       <use style=\"stroke:#000000;stroke-width:0.8;\" x=\"28.042738\" xlink:href=\"#m0d94d74f1f\" y=\"33.028368\"/>\n      </g>\n     </g>\n     <g id=\"text_12\">\n      <!-- $\\mathdefault{15}$ -->\n      <g transform=\"translate(13.100263 35.392465)scale(0.07 -0.07)\">\n       <use transform=\"scale(0.996264)\" xlink:href=\"#CMR17-31\"/>\n       <use transform=\"translate(45.690477 0)scale(0.996264)\" xlink:href=\"#CMR17-35\"/>\n      </g>\n     </g>\n    </g>\n    <g id=\"ytick_5\">\n     <g id=\"line2d_12\">\n      <g>\n       <use style=\"stroke:#000000;stroke-width:0.8;\" x=\"28.042738\" xlink:href=\"#m0d94d74f1f\" y=\"13.307153\"/>\n      </g>\n     </g>\n     <g id=\"text_13\">\n      <!-- $\\mathdefault{20}$ -->\n      <g transform=\"translate(13.100263 15.671251)scale(0.07 -0.07)\">\n       <use transform=\"scale(0.996264)\" xlink:href=\"#CMR17-32\"/>\n       <use transform=\"translate(45.690477 0)scale(0.996264)\" xlink:href=\"#CMR17-30\"/>\n      </g>\n     </g>\n    </g>\n    <g id=\"text_14\">\n     <!-- Count -->\n     <g transform=\"translate(7.159117 57.597319)rotate(-90)scale(0.09 -0.09)\">\n      <defs>\n       <path d=\"M 3968 2905 \nL 3910 4352 \nL 3776 4352 \nC 3738 4217 3635 4140 3507 4140 \nC 3450 4140 3354 4159 3258 4198 \nC 2944 4300 2624 4352 2323 4352 \nC 1798 4352 1267 4153 870 3801 \nC 422 3405 179 2809 179 2105 \nC 179 1510 371 960 698 595 \nC 1082 179 1670 -64 2304 -64 \nC 3027 -64 3661 230 4051 748 \nL 3936 864 \nC 3462 409 3040 217 2509 217 \nC 2106 217 1747 345 1472 588 \nC 1120 902 922 1478 922 2188 \nC 922 3347 1517 4095 2445 4095 \nC 2810 4095 3142 3961 3398 3705 \nC 3603 3501 3699 3321 3821 2905 \nL 3968 2905 \nz\n\" id=\"NimbusRomNo9L-Regu-43\" transform=\"scale(0.015625)\"/>\n       <path d=\"M 3066 319 \nL 3034 319 \nC 2739 319 2669 390 2669 684 \nL 2669 2880 \nL 1658 2880 \nL 1658 2771 \nC 2054 2752 2131 2688 2131 2368 \nL 2131 864 \nC 2131 684 2099 595 2010 524 \nC 1837 384 1638 307 1446 307 \nC 1197 307 992 524 992 793 \nL 992 2880 \nL 58 2880 \nL 58 2790 \nC 365 2771 454 2675 454 2380 \nL 454 768 \nC 454 262 762 -64 1229 -64 \nC 1466 -64 1715 38 1888 211 \nL 2163 486 \nL 2163 -45 \nL 2189 -64 \nC 2509 64 2739 134 3066 224 \nL 3066 319 \nz\n\" id=\"NimbusRomNo9L-Regu-75\" transform=\"scale(0.015625)\"/>\n      </defs>\n      <use transform=\"scale(0.996264)\" xlink:href=\"#NimbusRomNo9L-Regu-43\"/>\n      <use transform=\"translate(66.450031 0)scale(0.996264)\" xlink:href=\"#NimbusRomNo9L-Regu-6f\"/>\n      <use transform=\"translate(116.263232 0)scale(0.996264)\" xlink:href=\"#NimbusRomNo9L-Regu-75\"/>\n      <use transform=\"translate(166.076432 0)scale(0.996264)\" xlink:href=\"#NimbusRomNo9L-Regu-6e\"/>\n      <use transform=\"translate(215.889633 0)scale(0.996264)\" xlink:href=\"#NimbusRomNo9L-Regu-74\"/>\n     </g>\n    </g>\n   </g>\n   <g id=\"line2d_13\">\n    <path clip-path=\"url(#p90a5e0796a)\" d=\"M 35.54441 58.881294 \nL 36.371964 56.261052 \nL 36.992629 54.999021 \nL 37.406406 54.523064 \nL 37.820182 54.345752 \nL 38.233959 54.463405 \nL 38.647736 54.86463 \nL 39.268401 55.956256 \nL 39.889066 57.557074 \nL 40.71662 60.297544 \nL 42.371727 66.826538 \nL 44.233723 73.911367 \nL 45.475053 77.738039 \nL 46.509495 80.261286 \nL 47.543937 82.221201 \nL 48.578379 83.712788 \nL 49.612821 84.854357 \nL 51.06104 86.088515 \nL 53.750589 87.987683 \nL 57.060804 90.139975 \nL 58.715911 90.97342 \nL 60.371018 91.55479 \nL 62.026125 91.900114 \nL 64.095009 92.092154 \nL 66.784559 92.102489 \nL 69.267219 91.900404 \nL 71.542992 91.487246 \nL 75.68076 90.633862 \nL 76.715202 90.581478 \nL 76.715202 90.581478 \n\" style=\"fill:none;stroke:#1f77b4;stroke-linecap:square;stroke-width:1.5;\"/>\n   </g>\n   <g id=\"line2d_14\">\n    <path clip-path=\"url(#p90a5e0796a)\" d=\"M 42.11153 86.642807 \nL 49.320893 85.991207 \nL 55.809319 85.630701 \nL 62.297746 85.497186 \nL 68.786172 85.578198 \nL 75.995535 85.889018 \nL 83.925834 86.454539 \nL 93.298005 87.355272 \nL 110.600476 89.316697 \nL 121.41452 90.408498 \nL 130.065755 91.051809 \nL 137.996054 91.425373 \nL 146.647289 91.611536 \nL 157.461334 91.600039 \nL 185.577848 91.301253 \nL 185.577848 91.301253 \n\" style=\"fill:none;stroke:#ff7f0e;stroke-linecap:square;stroke-width:1.5;\"/>\n   </g>\n   <g id=\"patch_23\">\n    <path d=\"M 28.042738 92.192012 \nL 28.042738 1.08 \n\" style=\"fill:none;stroke:#000000;stroke-linecap:square;stroke-linejoin:miter;stroke-width:0.8;\"/>\n   </g>\n   <g id=\"patch_24\">\n    <path d=\"M 193.07952 92.192012 \nL 193.07952 1.08 \n\" style=\"fill:none;stroke:#000000;stroke-linecap:square;stroke-linejoin:miter;stroke-width:0.8;\"/>\n   </g>\n   <g id=\"patch_25\">\n    <path d=\"M 28.042738 92.192012 \nL 193.07952 92.192012 \n\" style=\"fill:none;stroke:#000000;stroke-linecap:square;stroke-linejoin:miter;stroke-width:0.8;\"/>\n   </g>\n   <g id=\"patch_26\">\n    <path d=\"M 28.042738 1.08 \nL 193.07952 1.08 \n\" style=\"fill:none;stroke:#000000;stroke-linecap:square;stroke-linejoin:miter;stroke-width:0.8;\"/>\n   </g>\n  </g>\n </g>\n <defs>\n  <clipPath id=\"p90a5e0796a\">\n   <rect height=\"91.112012\" width=\"165.036782\" x=\"28.042738\" y=\"1.08\"/>\n  </clipPath>\n </defs>\n</svg>\n",
      "text/plain": [
       "<Figure size 198x122.371 with 1 Axes>"
      ]
     },
     "metadata": {
      "image/png": {
       "height": 118,
       "width": 194
      },
      "needs_background": "light"
     },
     "output_type": "display_data"
    }
   ],
   "source": [
    "data_plant = data[data[\"Plant based\"]==1]\n",
    "data_animal = data[data[\"Plant based\"]==0]\n",
    "\n",
    "# for nice plots (svg) in LaTeX math mode:\n",
    "with plt.rc_context(bundles.neurips2022(usetex=True, rel_width=0.5, nrows=1, ncols=1)):\n",
    "    # Setup code\n",
    "    fig, axs = plt.subplots(nrows=1, ncols=1)\n",
    "\n",
    "    # Plotting code\n",
    "    plant_hist = sns.histplot(data_plant[\"Total Emissions\"], bins=10, color=\"C0\", legend=False, ax=axs, kde=True)\n",
    "\n",
    "    sns.histplot(data_animal[\"Total Emissions\"], bins=10, color=\"C1\", legend=False, ax=axs, kde=True, label=\"Animal based\")\n",
    "\n",
    "    # Save plot\n",
    "    fig.savefig(\n",
    "    \"figures/testplot.pdf\",\n",
    "    bbox_inches=\"tight\",\n",
    "    pad_inches=0.01,\n",
    "    )"
   ]
  },
  {
   "attachments": {},
   "cell_type": "markdown",
   "metadata": {},
   "source": [
    "Observation:\n",
    "- plant based emissions look chi-squared distributed\n",
    "\n",
    "Problem:\n",
    "-  Most tests assume gaussian distributed data.\n",
    "So, let's transform data by applying  log and check out the distribution"
   ]
  },
  {
   "attachments": {},
   "cell_type": "markdown",
   "metadata": {},
   "source": [
    "### data Transformation:   log()"
   ]
  },
  {
   "cell_type": "code",
   "execution_count": 78,
   "metadata": {},
   "outputs": [
    {
     "data": {
      "image/png": "[encoded data removed]",
      "image/svg+xml": "<?xml version=\"1.0\" encoding=\"utf-8\" standalone=\"no\"?>\n<!DOCTYPE svg PUBLIC \"-//W3C//DTD SVG 1.1//EN\"\n  \"http://www.w3.org/Graphics/SVG/1.1/DTD/svg11.dtd\">\n<svg height=\"118.53025pt\" version=\"1.1\" viewBox=\"0 0 194.15952 118.53025\" width=\"194.15952pt\" xmlns=\"http://www.w3.org/2000/svg\" xmlns:xlink=\"http://www.w3.org/1999/xlink\">\n <metadata>\n  <rdf:RDF xmlns:cc=\"http://creativecommons.org/ns#\" xmlns:dc=\"http://purl.org/dc/elements/1.1/\" xmlns:rdf=\"http://www.w3.org/1999/02/22-rdf-syntax-ns#\">\n   <cc:Work>\n    <dc:type rdf:resource=\"http://purl.org/dc/dcmitype/StillImage\"/>\n    <dc:date>2023-01-08T16:15:09.935277</dc:date>\n    <dc:format>image/svg+xml</dc:format>\n    <dc:creator>\n     <cc:Agent>\n      <dc:title>Matplotlib v3.4.3, https://matplotlib.org/</dc:title>\n     </cc:Agent>\n    </dc:creator>\n   </cc:Work>\n  </rdf:RDF>\n </metadata>\n <defs>\n  <style type=\"text/css\">*{stroke-linecap:butt;stroke-linejoin:round;}</style>\n </defs>\n <g id=\"figure_1\">\n  <g id=\"patch_1\">\n   <path d=\"M 0 118.53025 \nL 194.15952 118.53025 \nL 194.15952 0 \nL 0 0 \nz\n\" style=\"fill:none;\"/>\n  </g>\n  <g id=\"axes_1\">\n   <g id=\"patch_2\">\n    <path d=\"M 24.0715 92.192012 \nL 193.07952 92.192012 \nL 193.07952 1.08 \nL 24.0715 1.08 \nz\n\" style=\"fill:#ffffff;\"/>\n   </g>\n   <g id=\"patch_3\">\n    <path clip-path=\"url(#pfe89e85357)\" d=\"M 31.753683 92.192012 \nL 43.654461 92.192012 \nL 43.654461 17.814859 \nL 31.753683 17.814859 \nz\n\" style=\"fill:#1f77b4;fill-opacity:0.5;stroke:#000000;stroke-linejoin:miter;\"/>\n   </g>\n   <g id=\"patch_4\">\n    <path clip-path=\"url(#pfe89e85357)\" d=\"M 43.654461 92.192012 \nL 55.555239 92.192012 \nL 55.555239 79.79582 \nL 43.654461 79.79582 \nz\n\" style=\"fill:#1f77b4;fill-opacity:0.5;stroke:#000000;stroke-linejoin:miter;\"/>\n   </g>\n   <g id=\"patch_5\">\n    <path clip-path=\"url(#pfe89e85357)\" d=\"M 55.555239 92.192012 \nL 67.456017 92.192012 \nL 67.456017 67.399628 \nL 55.555239 67.399628 \nz\n\" style=\"fill:#1f77b4;fill-opacity:0.5;stroke:#000000;stroke-linejoin:miter;\"/>\n   </g>\n   <g id=\"patch_6\">\n    <path clip-path=\"url(#pfe89e85357)\" d=\"M 67.456017 92.192012 \nL 79.356796 92.192012 \nL 79.356796 5.418667 \nL 67.456017 5.418667 \nz\n\" style=\"fill:#1f77b4;fill-opacity:0.5;stroke:#000000;stroke-linejoin:miter;\"/>\n   </g>\n   <g id=\"patch_7\">\n    <path clip-path=\"url(#pfe89e85357)\" d=\"M 79.356796 92.192012 \nL 91.257574 92.192012 \nL 91.257574 17.814859 \nL 79.356796 17.814859 \nz\n\" style=\"fill:#1f77b4;fill-opacity:0.5;stroke:#000000;stroke-linejoin:miter;\"/>\n   </g>\n   <g id=\"patch_8\">\n    <path clip-path=\"url(#pfe89e85357)\" d=\"M 91.257574 92.192012 \nL 103.158352 92.192012 \nL 103.158352 67.399628 \nL 91.257574 67.399628 \nz\n\" style=\"fill:#1f77b4;fill-opacity:0.5;stroke:#000000;stroke-linejoin:miter;\"/>\n   </g>\n   <g id=\"patch_9\">\n    <path clip-path=\"url(#pfe89e85357)\" d=\"M 103.158352 92.192012 \nL 115.05913 92.192012 \nL 115.05913 42.607243 \nL 103.158352 42.607243 \nz\n\" style=\"fill:#1f77b4;fill-opacity:0.5;stroke:#000000;stroke-linejoin:miter;\"/>\n   </g>\n   <g id=\"patch_10\">\n    <path clip-path=\"url(#pfe89e85357)\" d=\"M 115.05913 92.192012 \nL 126.959908 92.192012 \nL 126.959908 67.399628 \nL 115.05913 67.399628 \nz\n\" style=\"fill:#1f77b4;fill-opacity:0.5;stroke:#000000;stroke-linejoin:miter;\"/>\n   </g>\n   <g id=\"patch_11\">\n    <path clip-path=\"url(#pfe89e85357)\" d=\"M 126.959908 92.192012 \nL 138.860686 92.192012 \nL 138.860686 79.79582 \nL 126.959908 79.79582 \nz\n\" style=\"fill:#1f77b4;fill-opacity:0.5;stroke:#000000;stroke-linejoin:miter;\"/>\n   </g>\n   <g id=\"patch_12\">\n    <path clip-path=\"url(#pfe89e85357)\" d=\"M 138.860686 92.192012 \nL 150.761464 92.192012 \nL 150.761464 79.79582 \nL 138.860686 79.79582 \nz\n\" style=\"fill:#1f77b4;fill-opacity:0.5;stroke:#000000;stroke-linejoin:miter;\"/>\n   </g>\n   <g id=\"patch_13\">\n    <path clip-path=\"url(#pfe89e85357)\" d=\"M 102.925837 92.192012 \nL 111.172987 92.192012 \nL 111.172987 79.79582 \nL 102.925837 79.79582 \nz\n\" style=\"fill:#ff7f0e;fill-opacity:0.5;stroke:#000000;stroke-linejoin:miter;stroke-width:0.748796;\"/>\n   </g>\n   <g id=\"patch_14\">\n    <path clip-path=\"url(#pfe89e85357)\" d=\"M 111.172987 92.192012 \nL 119.420137 92.192012 \nL 119.420137 67.399628 \nL 111.172987 67.399628 \nz\n\" style=\"fill:#ff7f0e;fill-opacity:0.5;stroke:#000000;stroke-linejoin:miter;stroke-width:0.748796;\"/>\n   </g>\n   <g id=\"patch_15\">\n    <path clip-path=\"url(#pfe89e85357)\" d=\"M 119.420137 92.192012 \nL 127.667287 92.192012 \nL 127.667287 79.79582 \nL 119.420137 79.79582 \nz\n\" style=\"fill:#ff7f0e;fill-opacity:0.5;stroke:#000000;stroke-linejoin:miter;stroke-width:0.748796;\"/>\n   </g>\n   <g id=\"patch_16\">\n    <path clip-path=\"url(#pfe89e85357)\" d=\"M 127.667287 92.192012 \nL 135.914437 92.192012 \nL 135.914437 79.79582 \nL 127.667287 79.79582 \nz\n\" style=\"fill:#ff7f0e;fill-opacity:0.5;stroke:#000000;stroke-linejoin:miter;stroke-width:0.748796;\"/>\n   </g>\n   <g id=\"patch_17\">\n    <path clip-path=\"url(#pfe89e85357)\" d=\"M 135.914437 92.192012 \nL 144.161587 92.192012 \nL 144.161587 79.79582 \nL 135.914437 79.79582 \nz\n\" style=\"fill:#ff7f0e;fill-opacity:0.5;stroke:#000000;stroke-linejoin:miter;stroke-width:0.748796;\"/>\n   </g>\n   <g id=\"patch_18\">\n    <path clip-path=\"url(#pfe89e85357)\" d=\"M 144.161587 92.192012 \nL 152.408737 92.192012 \nL 152.408737 92.192012 \nL 144.161587 92.192012 \nz\n\" style=\"fill:#ff7f0e;fill-opacity:0.5;stroke:#000000;stroke-linejoin:miter;stroke-width:0.748796;\"/>\n   </g>\n   <g id=\"patch_19\">\n    <path clip-path=\"url(#pfe89e85357)\" d=\"M 152.408737 92.192012 \nL 160.655887 92.192012 \nL 160.655887 55.003435 \nL 152.408737 55.003435 \nz\n\" style=\"fill:#ff7f0e;fill-opacity:0.5;stroke:#000000;stroke-linejoin:miter;stroke-width:0.748796;\"/>\n   </g>\n   <g id=\"patch_20\">\n    <path clip-path=\"url(#pfe89e85357)\" d=\"M 160.655887 92.192012 \nL 168.903037 92.192012 \nL 168.903037 79.79582 \nL 160.655887 79.79582 \nz\n\" style=\"fill:#ff7f0e;fill-opacity:0.5;stroke:#000000;stroke-linejoin:miter;stroke-width:0.748796;\"/>\n   </g>\n   <g id=\"patch_21\">\n    <path clip-path=\"url(#pfe89e85357)\" d=\"M 168.903037 92.192012 \nL 177.150187 92.192012 \nL 177.150187 92.192012 \nL 168.903037 92.192012 \nz\n\" style=\"fill:#ff7f0e;fill-opacity:0.5;stroke:#000000;stroke-linejoin:miter;stroke-width:0.748796;\"/>\n   </g>\n   <g id=\"patch_22\">\n    <path clip-path=\"url(#pfe89e85357)\" d=\"M 177.150187 92.192012 \nL 185.397337 92.192012 \nL 185.397337 79.79582 \nL 177.150187 79.79582 \nz\n\" style=\"fill:#ff7f0e;fill-opacity:0.5;stroke:#000000;stroke-linejoin:miter;stroke-width:0.748796;\"/>\n   </g>\n   <g id=\"matplotlib.axis_1\">\n    <g id=\"xtick_1\">\n     <g id=\"line2d_1\">\n      <defs>\n       <path d=\"M 0 0 \nL 0 3.5 \n\" id=\"m055e57c524\" style=\"stroke:#000000;stroke-width:0.8;\"/>\n      </defs>\n      <g>\n       <use style=\"stroke:#000000;stroke-width:0.8;\" x=\"75.158258\" xlink:href=\"#m055e57c524\" y=\"92.192012\"/>\n      </g>\n     </g>\n     <g id=\"text_1\">\n      <!-- $\\mathdefault{10^{0}}$ -->\n      <g transform=\"translate(69.491961 103.920207)scale(0.07 -0.07)\">\n       <defs>\n        <path d=\"M 1702 4083 \nC 1702 4217 1696 4224 1606 4224 \nC 1357 3927 979 3833 621 3820 \nC 602 3820 570 3820 563 3808 \nC 557 3795 557 3782 557 3648 \nC 755 3648 1088 3686 1344 3839 \nL 1344 467 \nC 1344 243 1331 166 781 166 \nL 589 166 \nL 589 0 \nC 896 6 1216 12 1523 12 \nC 1830 12 2150 6 2458 0 \nL 2458 166 \nL 2266 166 \nC 1715 166 1702 236 1702 467 \nL 1702 4083 \nz\n\" id=\"CMR17-31\" transform=\"scale(0.015625)\"/>\n        <path d=\"M 2688 2038 \nC 2688 2430 2682 3099 2413 3613 \nC 2176 4063 1798 4224 1466 4224 \nC 1158 4224 768 4082 525 3620 \nC 269 3137 243 2539 243 2038 \nC 243 1671 250 1112 448 623 \nC 723 -39 1216 -128 1466 -128 \nC 1760 -128 2208 -7 2470 604 \nC 2662 1048 2688 1568 2688 2038 \nz\nM 1466 -26 \nC 1056 -26 813 328 723 816 \nC 653 1196 653 1749 653 2109 \nC 653 2604 653 3015 736 3407 \nC 858 3954 1216 4121 1466 4121 \nC 1728 4121 2067 3947 2189 3420 \nC 2272 3054 2278 2623 2278 2109 \nC 2278 1691 2278 1176 2202 797 \nC 2067 96 1690 -26 1466 -26 \nz\n\" id=\"CMR17-30\" transform=\"scale(0.015625)\"/>\n       </defs>\n       <use transform=\"scale(0.996264)\" xlink:href=\"#CMR17-31\"/>\n       <use transform=\"translate(45.690477 0)scale(0.996264)\" xlink:href=\"#CMR17-30\"/>\n       <use transform=\"translate(91.380954 36.153639)scale(0.697382)\" xlink:href=\"#CMR17-30\"/>\n      </g>\n     </g>\n    </g>\n    <g id=\"xtick_2\">\n     <g id=\"line2d_2\">\n      <g>\n       <use style=\"stroke:#000000;stroke-width:0.8;\" x=\"137.256166\" xlink:href=\"#m055e57c524\" y=\"92.192012\"/>\n      </g>\n     </g>\n     <g id=\"text_2\">\n      <!-- $\\mathdefault{10^{1}}$ -->\n      <g transform=\"translate(131.589869 103.920207)scale(0.07 -0.07)\">\n       <use transform=\"scale(0.996264)\" xlink:href=\"#CMR17-31\"/>\n       <use transform=\"translate(45.690477 0)scale(0.996264)\" xlink:href=\"#CMR17-30\"/>\n       <use transform=\"translate(91.380954 36.153639)scale(0.697382)\" xlink:href=\"#CMR17-31\"/>\n      </g>\n     </g>\n    </g>\n    <g id=\"xtick_3\">\n     <g id=\"line2d_3\">\n      <defs>\n       <path d=\"M 0 0 \nL 0 2 \n\" id=\"m11536e7718\" style=\"stroke:#000000;stroke-width:0.6;\"/>\n      </defs>\n      <g>\n       <use style=\"stroke:#000000;stroke-width:0.6;\" x=\"31.753683\" xlink:href=\"#m11536e7718\" y=\"92.192012\"/>\n      </g>\n     </g>\n    </g>\n    <g id=\"xtick_4\">\n     <g id=\"line2d_4\">\n      <g>\n       <use style=\"stroke:#000000;stroke-width:0.6;\" x=\"42.688582\" xlink:href=\"#m11536e7718\" y=\"92.192012\"/>\n      </g>\n     </g>\n    </g>\n    <g id=\"xtick_5\">\n     <g id=\"line2d_5\">\n      <g>\n       <use style=\"stroke:#000000;stroke-width:0.6;\" x=\"50.447016\" xlink:href=\"#m11536e7718\" y=\"92.192012\"/>\n      </g>\n     </g>\n    </g>\n    <g id=\"xtick_6\">\n     <g id=\"line2d_6\">\n      <g>\n       <use style=\"stroke:#000000;stroke-width:0.6;\" x=\"56.464925\" xlink:href=\"#m11536e7718\" y=\"92.192012\"/>\n      </g>\n     </g>\n    </g>\n    <g id=\"xtick_7\">\n     <g id=\"line2d_7\">\n      <g>\n       <use style=\"stroke:#000000;stroke-width:0.6;\" x=\"61.381915\" xlink:href=\"#m11536e7718\" y=\"92.192012\"/>\n      </g>\n     </g>\n    </g>\n    <g id=\"xtick_8\">\n     <g id=\"line2d_8\">\n      <g>\n       <use style=\"stroke:#000000;stroke-width:0.6;\" x=\"65.539171\" xlink:href=\"#m11536e7718\" y=\"92.192012\"/>\n      </g>\n     </g>\n    </g>\n    <g id=\"xtick_9\">\n     <g id=\"line2d_9\">\n      <g>\n       <use style=\"stroke:#000000;stroke-width:0.6;\" x=\"69.140349\" xlink:href=\"#m11536e7718\" y=\"92.192012\"/>\n      </g>\n     </g>\n    </g>\n    <g id=\"xtick_10\">\n     <g id=\"line2d_10\">\n      <g>\n       <use style=\"stroke:#000000;stroke-width:0.6;\" x=\"72.316814\" xlink:href=\"#m11536e7718\" y=\"92.192012\"/>\n      </g>\n     </g>\n    </g>\n    <g id=\"xtick_11\">\n     <g id=\"line2d_11\">\n      <g>\n       <use style=\"stroke:#000000;stroke-width:0.6;\" x=\"93.851591\" xlink:href=\"#m11536e7718\" y=\"92.192012\"/>\n      </g>\n     </g>\n    </g>\n    <g id=\"xtick_12\">\n     <g id=\"line2d_12\">\n      <g>\n       <use style=\"stroke:#000000;stroke-width:0.6;\" x=\"104.78649\" xlink:href=\"#m11536e7718\" y=\"92.192012\"/>\n      </g>\n     </g>\n    </g>\n    <g id=\"xtick_13\">\n     <g id=\"line2d_13\">\n      <g>\n       <use style=\"stroke:#000000;stroke-width:0.6;\" x=\"112.544924\" xlink:href=\"#m11536e7718\" y=\"92.192012\"/>\n      </g>\n     </g>\n    </g>\n    <g id=\"xtick_14\">\n     <g id=\"line2d_14\">\n      <g>\n       <use style=\"stroke:#000000;stroke-width:0.6;\" x=\"118.562833\" xlink:href=\"#m11536e7718\" y=\"92.192012\"/>\n      </g>\n     </g>\n    </g>\n    <g id=\"xtick_15\">\n     <g id=\"line2d_15\">\n      <g>\n       <use style=\"stroke:#000000;stroke-width:0.6;\" x=\"123.479823\" xlink:href=\"#m11536e7718\" y=\"92.192012\"/>\n      </g>\n     </g>\n    </g>\n    <g id=\"xtick_16\">\n     <g id=\"line2d_16\">\n      <g>\n       <use style=\"stroke:#000000;stroke-width:0.6;\" x=\"127.637079\" xlink:href=\"#m11536e7718\" y=\"92.192012\"/>\n      </g>\n     </g>\n    </g>\n    <g id=\"xtick_17\">\n     <g id=\"line2d_17\">\n      <g>\n       <use style=\"stroke:#000000;stroke-width:0.6;\" x=\"131.238257\" xlink:href=\"#m11536e7718\" y=\"92.192012\"/>\n      </g>\n     </g>\n    </g>\n    <g id=\"xtick_18\">\n     <g id=\"line2d_18\">\n      <g>\n       <use style=\"stroke:#000000;stroke-width:0.6;\" x=\"134.414722\" xlink:href=\"#m11536e7718\" y=\"92.192012\"/>\n      </g>\n     </g>\n    </g>\n    <g id=\"xtick_19\">\n     <g id=\"line2d_19\">\n      <g>\n       <use style=\"stroke:#000000;stroke-width:0.6;\" x=\"155.949499\" xlink:href=\"#m11536e7718\" y=\"92.192012\"/>\n      </g>\n     </g>\n    </g>\n    <g id=\"xtick_20\">\n     <g id=\"line2d_20\">\n      <g>\n       <use style=\"stroke:#000000;stroke-width:0.6;\" x=\"166.884398\" xlink:href=\"#m11536e7718\" y=\"92.192012\"/>\n      </g>\n     </g>\n    </g>\n    <g id=\"xtick_21\">\n     <g id=\"line2d_21\">\n      <g>\n       <use style=\"stroke:#000000;stroke-width:0.6;\" x=\"174.642832\" xlink:href=\"#m11536e7718\" y=\"92.192012\"/>\n      </g>\n     </g>\n    </g>\n    <g id=\"xtick_22\">\n     <g id=\"line2d_22\">\n      <g>\n       <use style=\"stroke:#000000;stroke-width:0.6;\" x=\"180.660741\" xlink:href=\"#m11536e7718\" y=\"92.192012\"/>\n      </g>\n     </g>\n    </g>\n    <g id=\"xtick_23\">\n     <g id=\"line2d_23\">\n      <g>\n       <use style=\"stroke:#000000;stroke-width:0.6;\" x=\"185.577731\" xlink:href=\"#m11536e7718\" y=\"92.192012\"/>\n      </g>\n     </g>\n    </g>\n    <g id=\"xtick_24\">\n     <g id=\"line2d_24\">\n      <g>\n       <use style=\"stroke:#000000;stroke-width:0.6;\" x=\"189.734987\" xlink:href=\"#m11536e7718\" y=\"92.192012\"/>\n      </g>\n     </g>\n    </g>\n    <g id=\"text_3\">\n     <!-- Total Emissions -->\n     <g transform=\"translate(79.914891 115.509104)scale(0.09 -0.09)\">\n      <defs>\n       <path d=\"M 1626 3955 \nL 1626 765 \nC 1626 223 1555 153 1024 121 \nL 1024 0 \nL 2893 0 \nL 2893 121 \nC 2368 147 2278 230 2278 695 \nL 2278 3955 \nL 2624 3955 \nC 3354 3955 3494 3840 3642 3138 \nL 3795 3138 \nL 3757 4224 \nL 147 4224 \nL 109 3138 \nL 262 3138 \nC 416 3834 563 3955 1280 3955 \nL 1626 3955 \nz\n\" id=\"NimbusRomNo9L-Regu-54\" transform=\"scale(0.015625)\"/>\n       <path d=\"M 1600 2944 \nC 768 2944 186 2329 186 1446 \nC 186 582 781 -64 1587 -64 \nC 2394 -64 3008 614 3008 1497 \nC 3008 2336 2419 2944 1600 2944 \nz\nM 1517 2764 \nC 2054 2764 2432 2150 2432 1273 \nC 2432 550 2144 115 1664 115 \nC 1414 115 1178 268 1043 524 \nC 864 857 762 1305 762 1760 \nC 762 2368 1062 2764 1517 2764 \nz\n\" id=\"NimbusRomNo9L-Regu-6f\" transform=\"scale(0.015625)\"/>\n       <path d=\"M 1632 2880 \nL 986 2880 \nL 986 3622 \nC 986 3686 979 3705 941 3705 \nC 896 3648 858 3590 813 3526 \nC 570 3174 294 2867 192 2841 \nC 122 2796 83 2751 83 2719 \nC 83 2700 90 2687 109 2675 \nL 448 2675 \nL 448 748 \nC 448 211 640 -64 1018 -64 \nC 1331 -64 1574 89 1786 422 \nL 1702 492 \nC 1568 332 1459 268 1318 268 \nC 1082 268 986 441 986 844 \nL 986 2675 \nL 1632 2675 \nL 1632 2880 \nz\n\" id=\"NimbusRomNo9L-Regu-74\" transform=\"scale(0.015625)\"/>\n       <path d=\"M 2829 422 \nC 2720 332 2643 300 2547 300 \nC 2400 300 2355 390 2355 672 \nL 2355 1920 \nC 2355 2252 2323 2438 2227 2592 \nC 2086 2822 1811 2944 1434 2944 \nC 832 2944 358 2630 358 2227 \nC 358 2080 486 1952 634 1952 \nC 787 1952 922 2080 922 2220 \nC 922 2246 915 2278 909 2323 \nC 896 2380 890 2432 890 2476 \nC 890 2649 1094 2790 1350 2790 \nC 1664 2790 1837 2604 1837 2259 \nL 1837 1868 \nC 851 1472 742 1420 467 1177 \nC 326 1049 237 832 237 620 \nC 237 217 518 -64 909 -64 \nC 1190 -64 1453 70 1843 403 \nC 1875 70 1990 -64 2253 -64 \nC 2470 -64 2605 12 2829 256 \nL 2829 422 \nz\nM 1837 787 \nC 1837 588 1805 531 1670 454 \nC 1517 364 1338 307 1203 307 \nC 979 307 800 524 800 800 \nL 800 825 \nC 800 1203 1062 1433 1837 1715 \nL 1837 787 \nz\n\" id=\"NimbusRomNo9L-Regu-61\" transform=\"scale(0.015625)\"/>\n       <path d=\"M 122 3987 \nL 160 3987 \nC 230 3993 307 4000 358 4000 \nC 563 4000 627 3910 627 3609 \nL 627 556 \nC 627 211 538 128 134 96 \nL 134 0 \nL 1645 0 \nL 1645 96 \nC 1242 121 1165 185 1165 537 \nL 1165 4358 \nL 1139 4371 \nC 806 4262 563 4198 122 4089 \nL 122 3987 \nz\n\" id=\"NimbusRomNo9L-Regu-6c\" transform=\"scale(0.015625)\"/>\n       <path d=\"M 3821 1087 \nL 3642 1087 \nC 3322 391 3046 236 2131 236 \nL 1958 236 \nC 1645 236 1376 269 1331 314 \nC 1299 333 1286 404 1286 513 \nL 1286 2105 \nL 2272 2105 \nC 2797 2105 2893 2021 2976 1487 \nL 3123 1487 \nL 3123 2966 \nL 2976 2966 \nC 2931 2708 2906 2613 2835 2525 \nC 2752 2418 2573 2368 2272 2368 \nL 1286 2368 \nL 1286 3766 \nC 1286 3942 1325 3980 1498 3980 \nL 2362 3980 \nC 3085 3980 3226 3886 3334 3319 \nL 3494 3319 \nL 3475 4224 \nL 77 4224 \nL 77 4102 \nC 550 4064 634 3975 634 3528 \nL 634 695 \nC 634 249 544 153 77 121 \nL 77 0 \nL 3533 0 \nL 3821 1087 \nz\n\" id=\"NimbusRomNo9L-Regu-45\" transform=\"scale(0.015625)\"/>\n       <path d=\"M 122 2547 \nC 205 2566 256 2572 326 2572 \nC 493 2572 550 2470 550 2163 \nL 550 544 \nC 550 198 461 102 102 96 \nL 102 0 \nL 1523 0 \nL 1523 96 \nC 1184 108 1088 179 1088 428 \nL 1088 2233 \nC 1088 2246 1139 2310 1184 2355 \nC 1344 2502 1619 2611 1843 2611 \nC 2125 2611 2266 2387 2266 1939 \nL 2266 550 \nC 2266 192 2195 121 1830 96 \nL 1830 0 \nL 3264 0 \nL 3264 96 \nC 2899 102 2803 211 2803 608 \nL 2803 2220 \nC 2995 2496 3206 2611 3501 2611 \nC 3866 2611 3981 2438 3981 1907 \nL 3981 556 \nC 3981 192 3930 140 3558 96 \nL 3558 0 \nL 4960 0 \nL 4960 96 \nL 4794 108 \nC 4602 121 4518 236 4518 486 \nL 4518 1804 \nC 4518 2560 4269 2944 3776 2944 \nC 3405 2944 3078 2777 2733 2406 \nC 2618 2771 2400 2944 2054 2944 \nC 1773 2944 1594 2854 1062 2451 \nL 1062 2931 \nL 1018 2944 \nC 691 2822 474 2751 122 2655 \nL 122 2547 \nz\n\" id=\"NimbusRomNo9L-Regu-6d\" transform=\"scale(0.015625)\"/>\n       <path d=\"M 1120 2944 \nL 128 2592 \nL 128 2496 \nL 179 2502 \nC 256 2515 339 2521 397 2521 \nC 550 2521 608 2419 608 2137 \nL 608 652 \nC 608 192 544 121 102 96 \nL 102 0 \nL 1619 0 \nL 1619 96 \nC 1197 128 1146 192 1146 652 \nL 1146 2924 \nL 1120 2944 \nz\nM 819 4352 \nC 646 4352 499 4204 499 4025 \nC 499 3846 640 3699 819 3699 \nC 1005 3699 1152 3839 1152 4025 \nC 1152 4204 1005 4352 819 4352 \nz\n\" id=\"NimbusRomNo9L-Regu-69\" transform=\"scale(0.015625)\"/>\n       <path d=\"M 2016 2009 \nL 1990 2880 \nL 1920 2880 \nL 1907 2867 \nC 1850 2822 1843 2815 1818 2815 \nC 1779 2815 1715 2828 1645 2860 \nC 1504 2918 1363 2944 1197 2944 \nC 691 2944 326 2617 326 2155 \nC 326 1796 531 1539 1075 1231 \nL 1446 1019 \nC 1670 891 1779 737 1779 538 \nC 1779 256 1574 76 1248 76 \nC 1030 76 832 160 710 301 \nC 576 461 518 609 435 974 \nL 333 974 \nL 333 -26 \nL 416 -26 \nC 461 38 486 51 563 51 \nC 621 51 710 38 858 0 \nC 1037 -39 1210 -64 1325 -64 \nC 1818 -64 2227 307 2227 756 \nC 2227 1077 2074 1289 1690 1520 \nL 998 1930 \nC 819 2033 723 2193 723 2366 \nC 723 2623 922 2803 1216 2803 \nC 1581 2803 1773 2585 1920 2014 \nL 2016 2009 \nz\n\" id=\"NimbusRomNo9L-Regu-73\" transform=\"scale(0.015625)\"/>\n       <path d=\"M 102 2547 \nC 141 2566 205 2572 275 2572 \nC 454 2572 512 2476 512 2163 \nL 512 576 \nC 512 211 442 121 115 96 \nL 115 0 \nL 1472 0 \nL 1472 96 \nC 1146 121 1050 198 1050 428 \nL 1050 2227 \nC 1357 2515 1498 2591 1709 2591 \nC 2022 2591 2176 2393 2176 1971 \nL 2176 633 \nC 2176 230 2093 121 1773 96 \nL 1773 0 \nL 3104 0 \nL 3104 96 \nC 2790 128 2714 204 2714 518 \nL 2714 1984 \nC 2714 2585 2432 2944 1958 2944 \nC 1664 2944 1466 2835 1030 2425 \nL 1030 2931 \nL 986 2944 \nC 672 2828 454 2758 102 2655 \nL 102 2547 \nz\n\" id=\"NimbusRomNo9L-Regu-6e\" transform=\"scale(0.015625)\"/>\n      </defs>\n      <use transform=\"scale(0.996264)\" xlink:href=\"#NimbusRomNo9L-Regu-54\"/>\n      <use transform=\"translate(52.902187 0)scale(0.996264)\" xlink:href=\"#NimbusRomNo9L-Regu-6f\"/>\n      <use transform=\"translate(102.715388 0)scale(0.996264)\" xlink:href=\"#NimbusRomNo9L-Regu-74\"/>\n      <use transform=\"translate(130.410558 0)scale(0.996264)\" xlink:href=\"#NimbusRomNo9L-Regu-61\"/>\n      <use transform=\"translate(174.644126 0)scale(0.996264)\" xlink:href=\"#NimbusRomNo9L-Regu-6c\"/>\n      <use transform=\"translate(227.245896 0)scale(0.996264)\" xlink:href=\"#NimbusRomNo9L-Regu-45\"/>\n      <use transform=\"translate(288.117527 0)scale(0.996264)\" xlink:href=\"#NimbusRomNo9L-Regu-6d\"/>\n      <use transform=\"translate(365.625897 0)scale(0.996264)\" xlink:href=\"#NimbusRomNo9L-Regu-69\"/>\n      <use transform=\"translate(393.321067 0)scale(0.996264)\" xlink:href=\"#NimbusRomNo9L-Regu-73\"/>\n      <use transform=\"translate(432.074773 0)scale(0.996264)\" xlink:href=\"#NimbusRomNo9L-Regu-73\"/>\n      <use transform=\"translate(470.828479 0)scale(0.996264)\" xlink:href=\"#NimbusRomNo9L-Regu-69\"/>\n      <use transform=\"translate(498.523649 0)scale(0.996264)\" xlink:href=\"#NimbusRomNo9L-Regu-6f\"/>\n      <use transform=\"translate(548.336849 0)scale(0.996264)\" xlink:href=\"#NimbusRomNo9L-Regu-6e\"/>\n      <use transform=\"translate(598.150049 0)scale(0.996264)\" xlink:href=\"#NimbusRomNo9L-Regu-73\"/>\n     </g>\n    </g>\n   </g>\n   <g id=\"matplotlib.axis_2\">\n    <g id=\"ytick_1\">\n     <g id=\"line2d_25\">\n      <defs>\n       <path d=\"M 0 0 \nL -3.5 0 \n\" id=\"mcc362e37f3\" style=\"stroke:#000000;stroke-width:0.8;\"/>\n      </defs>\n      <g>\n       <use style=\"stroke:#000000;stroke-width:0.8;\" x=\"24.0715\" xlink:href=\"#mcc362e37f3\" y=\"92.192012\"/>\n      </g>\n     </g>\n     <g id=\"text_4\">\n      <!-- $\\mathdefault{0}$ -->\n      <g transform=\"translate(13.100263 94.556109)scale(0.07 -0.07)\">\n       <use transform=\"scale(0.996264)\" xlink:href=\"#CMR17-30\"/>\n      </g>\n     </g>\n    </g>\n    <g id=\"ytick_2\">\n     <g id=\"line2d_26\">\n      <g>\n       <use style=\"stroke:#000000;stroke-width:0.8;\" x=\"24.0715\" xlink:href=\"#mcc362e37f3\" y=\"67.399628\"/>\n      </g>\n     </g>\n     <g id=\"text_5\">\n      <!-- $\\mathdefault{2}$ -->\n      <g transform=\"translate(13.100263 69.763725)scale(0.07 -0.07)\">\n       <defs>\n        <path d=\"M 2669 990 \nL 2554 990 \nC 2490 537 2438 460 2413 422 \nC 2381 371 1920 371 1830 371 \nL 602 371 \nC 832 620 1280 1073 1824 1596 \nC 2214 1966 2669 2400 2669 3033 \nC 2669 3788 2067 4224 1395 4224 \nC 691 4224 262 3603 262 3027 \nC 262 2777 448 2745 525 2745 \nC 589 2745 781 2783 781 3007 \nC 781 3206 614 3264 525 3264 \nC 486 3264 448 3257 422 3244 \nC 544 3788 915 4057 1306 4057 \nC 1862 4057 2227 3616 2227 3033 \nC 2227 2477 1901 1998 1536 1583 \nL 262 147 \nL 262 0 \nL 2515 0 \nL 2669 990 \nz\n\" id=\"CMR17-32\" transform=\"scale(0.015625)\"/>\n       </defs>\n       <use transform=\"scale(0.996264)\" xlink:href=\"#CMR17-32\"/>\n      </g>\n     </g>\n    </g>\n    <g id=\"ytick_3\">\n     <g id=\"line2d_27\">\n      <g>\n       <use style=\"stroke:#000000;stroke-width:0.8;\" x=\"24.0715\" xlink:href=\"#mcc362e37f3\" y=\"42.607243\"/>\n      </g>\n     </g>\n     <g id=\"text_6\">\n      <!-- $\\mathdefault{4}$ -->\n      <g transform=\"translate(13.100263 44.971341)scale(0.07 -0.07)\">\n       <defs>\n        <path d=\"M 2150 4147 \nC 2150 4281 2144 4288 2029 4288 \nL 128 1254 \nL 128 1088 \nL 1779 1088 \nL 1779 460 \nC 1779 230 1766 166 1318 166 \nL 1197 166 \nL 1197 0 \nC 1402 12 1747 12 1965 12 \nC 2182 12 2528 12 2733 0 \nL 2733 166 \nL 2611 166 \nC 2163 166 2150 230 2150 460 \nL 2150 1088 \nL 2803 1088 \nL 2803 1254 \nL 2150 1254 \nL 2150 4147 \nz\nM 1798 3723 \nL 1798 1254 \nL 256 1254 \nL 1798 3723 \nz\n\" id=\"CMR17-34\" transform=\"scale(0.015625)\"/>\n       </defs>\n       <use transform=\"scale(0.996264)\" xlink:href=\"#CMR17-34\"/>\n      </g>\n     </g>\n    </g>\n    <g id=\"ytick_4\">\n     <g id=\"line2d_28\">\n      <g>\n       <use style=\"stroke:#000000;stroke-width:0.8;\" x=\"24.0715\" xlink:href=\"#mcc362e37f3\" y=\"17.814859\"/>\n      </g>\n     </g>\n     <g id=\"text_7\">\n      <!-- $\\mathdefault{6}$ -->\n      <g transform=\"translate(13.100263 20.178957)scale(0.07 -0.07)\">\n       <defs>\n        <path d=\"M 678 2198 \nC 678 3712 1395 4076 1811 4076 \nC 1946 4076 2272 4049 2400 3782 \nC 2298 3782 2106 3782 2106 3558 \nC 2106 3385 2246 3328 2336 3328 \nC 2394 3328 2566 3353 2566 3571 \nC 2566 3987 2246 4224 1805 4224 \nC 1043 4224 243 3411 243 2011 \nC 243 257 966 -128 1478 -128 \nC 2099 -128 2688 431 2688 1295 \nC 2688 2101 2170 2688 1517 2688 \nC 1126 2688 838 2430 678 1979 \nL 678 2198 \nz\nM 1478 25 \nC 691 25 691 1212 691 1450 \nC 691 1914 909 2585 1504 2585 \nC 1613 2585 1926 2585 2138 2140 \nC 2253 1889 2253 1624 2253 1302 \nC 2253 954 2253 696 2118 438 \nC 1978 173 1773 25 1478 25 \nz\n\" id=\"CMR17-36\" transform=\"scale(0.015625)\"/>\n       </defs>\n       <use transform=\"scale(0.996264)\" xlink:href=\"#CMR17-36\"/>\n      </g>\n     </g>\n    </g>\n    <g id=\"text_8\">\n     <!-- Count -->\n     <g transform=\"translate(7.159117 57.597319)rotate(-90)scale(0.09 -0.09)\">\n      <defs>\n       <path d=\"M 3968 2905 \nL 3910 4352 \nL 3776 4352 \nC 3738 4217 3635 4140 3507 4140 \nC 3450 4140 3354 4159 3258 4198 \nC 2944 4300 2624 4352 2323 4352 \nC 1798 4352 1267 4153 870 3801 \nC 422 3405 179 2809 179 2105 \nC 179 1510 371 960 698 595 \nC 1082 179 1670 -64 2304 -64 \nC 3027 -64 3661 230 4051 748 \nL 3936 864 \nC 3462 409 3040 217 2509 217 \nC 2106 217 1747 345 1472 588 \nC 1120 902 922 1478 922 2188 \nC 922 3347 1517 4095 2445 4095 \nC 2810 4095 3142 3961 3398 3705 \nC 3603 3501 3699 3321 3821 2905 \nL 3968 2905 \nz\n\" id=\"NimbusRomNo9L-Regu-43\" transform=\"scale(0.015625)\"/>\n       <path d=\"M 3066 319 \nL 3034 319 \nC 2739 319 2669 390 2669 684 \nL 2669 2880 \nL 1658 2880 \nL 1658 2771 \nC 2054 2752 2131 2688 2131 2368 \nL 2131 864 \nC 2131 684 2099 595 2010 524 \nC 1837 384 1638 307 1446 307 \nC 1197 307 992 524 992 793 \nL 992 2880 \nL 58 2880 \nL 58 2790 \nC 365 2771 454 2675 454 2380 \nL 454 768 \nC 454 262 762 -64 1229 -64 \nC 1466 -64 1715 38 1888 211 \nL 2163 486 \nL 2163 -45 \nL 2189 -64 \nC 2509 64 2739 134 3066 224 \nL 3066 319 \nz\n\" id=\"NimbusRomNo9L-Regu-75\" transform=\"scale(0.015625)\"/>\n      </defs>\n      <use transform=\"scale(0.996264)\" xlink:href=\"#NimbusRomNo9L-Regu-43\"/>\n      <use transform=\"translate(66.450031 0)scale(0.996264)\" xlink:href=\"#NimbusRomNo9L-Regu-6f\"/>\n      <use transform=\"translate(116.263232 0)scale(0.996264)\" xlink:href=\"#NimbusRomNo9L-Regu-75\"/>\n      <use transform=\"translate(166.076432 0)scale(0.996264)\" xlink:href=\"#NimbusRomNo9L-Regu-6e\"/>\n      <use transform=\"translate(215.889633 0)scale(0.996264)\" xlink:href=\"#NimbusRomNo9L-Regu-74\"/>\n     </g>\n    </g>\n   </g>\n   <g id=\"line2d_29\">\n    <path clip-path=\"url(#pfe89e85357)\" d=\"M 31.753683 69.389624 \nL 35.341857 65.268314 \nL 38.332003 62.157852 \nL 40.724119 59.958072 \nL 43.116235 58.032808 \nL 45.508351 56.360272 \nL 48.498497 54.53775 \nL 56.272874 50.024078 \nL 59.263019 47.940146 \nL 62.253165 45.561251 \nL 67.037397 41.364002 \nL 70.625571 38.319647 \nL 73.017688 36.582613 \nL 74.811775 35.524654 \nL 76.605862 34.726854 \nL 78.399949 34.22283 \nL 80.194036 34.033063 \nL 81.988123 34.163817 \nL 83.782211 34.607186 \nL 85.576298 35.34224 \nL 87.370385 36.337114 \nL 89.762501 37.997902 \nL 92.154617 39.942277 \nL 96.340821 43.708568 \nL 102.91914 49.666257 \nL 107.703373 53.685355 \nL 123.252128 66.435337 \nL 132.222564 74.010235 \nL 135.810738 76.758994 \nL 139.398912 79.217179 \nL 142.389058 81.0166 \nL 145.379203 82.592765 \nL 148.967377 84.221711 \nL 150.761464 84.945329 \nL 150.761464 84.945329 \n\" style=\"fill:none;stroke:#1f77b4;stroke-linecap:square;stroke-width:1.5;\"/>\n   </g>\n   <g id=\"line2d_30\">\n    <path clip-path=\"url(#pfe89e85357)\" d=\"M 102.925837 84.288428 \nL 109.556711 81.772797 \nL 113.286578 80.583406 \nL 116.602015 79.748328 \nL 119.917452 79.152429 \nL 123.232889 78.790118 \nL 126.962756 78.61091 \nL 133.179201 78.588765 \nL 140.224505 78.500592 \nL 151.828535 78.223657 \nL 155.143973 78.443707 \nL 158.04498 78.844665 \nL 160.945988 79.451069 \nL 164.261425 80.371904 \nL 168.405722 81.769263 \nL 180.009752 85.842579 \nL 184.568478 87.143616 \nL 185.397337 87.357248 \nL 185.397337 87.357248 \n\" style=\"fill:none;stroke:#ff7f0e;stroke-linecap:square;stroke-width:1.5;\"/>\n   </g>\n   <g id=\"patch_23\">\n    <path d=\"M 24.0715 92.192012 \nL 24.0715 1.08 \n\" style=\"fill:none;stroke:#000000;stroke-linecap:square;stroke-linejoin:miter;stroke-width:0.8;\"/>\n   </g>\n   <g id=\"patch_24\">\n    <path d=\"M 193.07952 92.192012 \nL 193.07952 1.08 \n\" style=\"fill:none;stroke:#000000;stroke-linecap:square;stroke-linejoin:miter;stroke-width:0.8;\"/>\n   </g>\n   <g id=\"patch_25\">\n    <path d=\"M 24.0715 92.192012 \nL 193.07952 92.192012 \n\" style=\"fill:none;stroke:#000000;stroke-linecap:square;stroke-linejoin:miter;stroke-width:0.8;\"/>\n   </g>\n   <g id=\"patch_26\">\n    <path d=\"M 24.0715 1.08 \nL 193.07952 1.08 \n\" style=\"fill:none;stroke:#000000;stroke-linecap:square;stroke-linejoin:miter;stroke-width:0.8;\"/>\n   </g>\n  </g>\n </g>\n <defs>\n  <clipPath id=\"pfe89e85357\">\n   <rect height=\"91.112012\" width=\"169.00802\" x=\"24.0715\" y=\"1.08\"/>\n  </clipPath>\n </defs>\n</svg>\n",
      "text/plain": [
       "<Figure size 198x122.371 with 1 Axes>"
      ]
     },
     "metadata": {
      "image/png": {
       "height": 118,
       "width": 194
      },
      "needs_background": "light"
     },
     "output_type": "display_data"
    }
   ],
   "source": [
    "# for nice plots (svg) in LaTeX math mode:\n",
    "with plt.rc_context(bundles.neurips2022(usetex=True, rel_width=0.5, nrows=1, ncols=1)):\n",
    "    # Setup code\n",
    "    fig, axs = plt.subplots(nrows=1, ncols=1)\n",
    "\n",
    "    # Plotting code\n",
    "    plant_hist = sns.histplot(data_plant[\"Total Emissions\"], bins=10, color=\"C0\", legend=False, ax=axs, kde=True, log_scale=True)\n",
    "\n",
    "    sns.histplot(data_animal[\"Total Emissions\"], bins=10, color=\"C1\", legend=False, ax=axs, kde=True, label=\"Animal based\", log_scale=True)\n",
    "\n",
    "    # Save plot\n",
    "    fig.savefig(\n",
    "    \"figures/testplot.pdf\",\n",
    "    bbox_inches=\"tight\",\n",
    "    pad_inches=0.01,\n",
    "    )"
   ]
  },
  {
   "attachments": {},
   "cell_type": "markdown",
   "metadata": {},
   "source": [
    "### TODO:\n",
    "- Add Legend:\n",
    "    -   put animal and plant based column in one df so that plotting with legend will be possible \n",
    "- Test (and why this test)\n",
    "    - depict reasoning as to why log scale and respective t-test plotting one w/o log-scale --> similar to chi-squared distribution, plus plot in log-scale, which shows a distribution mor similar to a normal distribution. \n",
    "    - experiment with kde, maybe no histogram but only kde and mean"
   ]
  },
  {
   "attachments": {},
   "cell_type": "markdown",
   "metadata": {},
   "source": [
    "# Data Analysis\n",
    "\n",
    "## T-Tests\n",
    "\n",
    "H_0:\n",
    "\n",
    "H_1:\n"
   ]
  },
  {
   "cell_type": "markdown",
   "metadata": {},
   "source": []
  }
 ],
 "metadata": {
  "kernelspec": {
   "display_name": "base",
   "language": "python",
   "name": "python3"
  },
  "language_info": {
   "codemirror_mode": {
    "name": "ipython",
    "version": 3
   },
   "file_extension": ".py",
   "mimetype": "text/x-python",
   "name": "python",
   "nbconvert_exporter": "python",
   "pygments_lexer": "ipython3",
   "version": "3.7.11"
  },
  "orig_nbformat": 4,
  "vscode": {
   "interpreter": {
    "hash": "40d3a090f54c6569ab1632332b64b2c03c39dcf918b08424e98f38b5ae0af88f"
   }
  }
 },
 "nbformat": 4,
 "nbformat_minor": 2
}
