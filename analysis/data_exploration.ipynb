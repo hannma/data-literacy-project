{
 "cells": [
  {
   "cell_type": "code",
   "execution_count": 1,
   "metadata": {},
   "outputs": [],
   "source": [
    "import pandas as pd\n",
    "import numpy as np\n",
    "import matplotlib.pyplot as plt\n",
    "%matplotlib inline\n",
    "import seaborn as sns\n",
    "from scipy import stats\n",
    "\n",
    "# plots in LaTeX-style\n",
    "import tueplots\n",
    "from tueplots import bundles\n",
    "plt.rcParams.update(bundles.neurips2022())"
   ]
  },
  {
   "cell_type": "markdown",
   "metadata": {},
   "source": [
    "# Data exploration"
   ]
  },
  {
   "cell_type": "markdown",
   "metadata": {},
   "source": [
    "We start by loading the dataset, augmented manually by a column that is **True** if the relative food is plant based.\\\n",
    "Then, some exploration of the data follows (imputation of *Na*s, splitting the dataset, mean and variance calculation and some relevant plots)."
   ]
  },
  {
   "cell_type": "code",
   "execution_count": 2,
   "metadata": {},
   "outputs": [],
   "source": [
    "# load data\n",
    "data = pd.read_csv(\"../data/Food_Production.csv\", sep=\";\")"
   ]
  },
  {
   "cell_type": "code",
   "execution_count": 3,
   "metadata": {},
   "outputs": [
    {
     "data": {
      "text/html": [
       "<div>\n",
       "<style scoped>\n",
       "    .dataframe tbody tr th:only-of-type {\n",
       "        vertical-align: middle;\n",
       "    }\n",
       "\n",
       "    .dataframe tbody tr th {\n",
       "        vertical-align: top;\n",
       "    }\n",
       "\n",
       "    .dataframe thead th {\n",
       "        text-align: right;\n",
       "    }\n",
       "</style>\n",
       "<table border=\"1\" class=\"dataframe\">\n",
       "  <thead>\n",
       "    <tr style=\"text-align: right;\">\n",
       "      <th></th>\n",
       "      <th>Food product</th>\n",
       "      <th>Plant based</th>\n",
       "      <th>Land Use Change</th>\n",
       "      <th>Animal Feed</th>\n",
       "      <th>Farm</th>\n",
       "      <th>Processing</th>\n",
       "      <th>Transport</th>\n",
       "      <th>Packaging</th>\n",
       "      <th>Retail</th>\n",
       "      <th>Total Emissions</th>\n",
       "      <th>...</th>\n",
       "      <th>Freshwater Withdrawals per 100g Protein (liters per 100g Protein)</th>\n",
       "      <th>Freshwater Withdrawals per kilogram (liters per kilogram)</th>\n",
       "      <th>Greenhouse Gas Emissions per 1000kcal (kgCO2eq per 1000kcal)</th>\n",
       "      <th>Greenhouse Gas Emissions per 100g Protein (kgCO2eq per 100g Protein)</th>\n",
       "      <th>Land Use per 1000kcal (m2 per 1000kcal)</th>\n",
       "      <th>Land Use per Kilogram (m2 per kilogram)</th>\n",
       "      <th>Land Use per 100g Protein (m2 per 100g Protein)</th>\n",
       "      <th>Scarcity weighted Water Use per Kilogram (liters per kilogram)</th>\n",
       "      <th>Scarcity weighted Water Use per 100g protein (liters per 100g protein)</th>\n",
       "      <th>Scarcity weighted Water use per 1000kcal (liters per 1000 kilocalories)</th>\n",
       "    </tr>\n",
       "  </thead>\n",
       "  <tbody>\n",
       "    <tr>\n",
       "      <th>0</th>\n",
       "      <td>Wheat &amp; Rye (Bread)</td>\n",
       "      <td>True</td>\n",
       "      <td>0.1</td>\n",
       "      <td>0.0</td>\n",
       "      <td>0.8</td>\n",
       "      <td>0.2</td>\n",
       "      <td>0.1</td>\n",
       "      <td>0.1</td>\n",
       "      <td>0.1</td>\n",
       "      <td>1.4</td>\n",
       "      <td>...</td>\n",
       "      <td>NaN</td>\n",
       "      <td>NaN</td>\n",
       "      <td>NaN</td>\n",
       "      <td>NaN</td>\n",
       "      <td>NaN</td>\n",
       "      <td>NaN</td>\n",
       "      <td>NaN</td>\n",
       "      <td>NaN</td>\n",
       "      <td>NaN</td>\n",
       "      <td>NaN</td>\n",
       "    </tr>\n",
       "    <tr>\n",
       "      <th>1</th>\n",
       "      <td>Maize (Meal)</td>\n",
       "      <td>True</td>\n",
       "      <td>0.3</td>\n",
       "      <td>0.0</td>\n",
       "      <td>0.5</td>\n",
       "      <td>0.1</td>\n",
       "      <td>0.1</td>\n",
       "      <td>0.1</td>\n",
       "      <td>0.0</td>\n",
       "      <td>1.1</td>\n",
       "      <td>...</td>\n",
       "      <td>NaN</td>\n",
       "      <td>NaN</td>\n",
       "      <td>NaN</td>\n",
       "      <td>NaN</td>\n",
       "      <td>NaN</td>\n",
       "      <td>NaN</td>\n",
       "      <td>NaN</td>\n",
       "      <td>NaN</td>\n",
       "      <td>NaN</td>\n",
       "      <td>NaN</td>\n",
       "    </tr>\n",
       "    <tr>\n",
       "      <th>2</th>\n",
       "      <td>Barley (Beer)</td>\n",
       "      <td>True</td>\n",
       "      <td>0.0</td>\n",
       "      <td>0.0</td>\n",
       "      <td>0.2</td>\n",
       "      <td>0.1</td>\n",
       "      <td>0.0</td>\n",
       "      <td>0.5</td>\n",
       "      <td>0.3</td>\n",
       "      <td>1.1</td>\n",
       "      <td>...</td>\n",
       "      <td>NaN</td>\n",
       "      <td>NaN</td>\n",
       "      <td>NaN</td>\n",
       "      <td>NaN</td>\n",
       "      <td>NaN</td>\n",
       "      <td>NaN</td>\n",
       "      <td>NaN</td>\n",
       "      <td>NaN</td>\n",
       "      <td>NaN</td>\n",
       "      <td>NaN</td>\n",
       "    </tr>\n",
       "    <tr>\n",
       "      <th>3</th>\n",
       "      <td>Oatmeal</td>\n",
       "      <td>True</td>\n",
       "      <td>0.0</td>\n",
       "      <td>0.0</td>\n",
       "      <td>1.4</td>\n",
       "      <td>0.0</td>\n",
       "      <td>0.1</td>\n",
       "      <td>0.1</td>\n",
       "      <td>0.0</td>\n",
       "      <td>1.6</td>\n",
       "      <td>...</td>\n",
       "      <td>371.076923</td>\n",
       "      <td>482.4</td>\n",
       "      <td>0.945482</td>\n",
       "      <td>1.907692</td>\n",
       "      <td>2.897446</td>\n",
       "      <td>7.6</td>\n",
       "      <td>5.846154</td>\n",
       "      <td>18786.2</td>\n",
       "      <td>14450.92308</td>\n",
       "      <td>7162.104461</td>\n",
       "    </tr>\n",
       "    <tr>\n",
       "      <th>4</th>\n",
       "      <td>Rice</td>\n",
       "      <td>True</td>\n",
       "      <td>0.0</td>\n",
       "      <td>0.0</td>\n",
       "      <td>3.6</td>\n",
       "      <td>0.1</td>\n",
       "      <td>0.1</td>\n",
       "      <td>0.1</td>\n",
       "      <td>0.1</td>\n",
       "      <td>4.0</td>\n",
       "      <td>...</td>\n",
       "      <td>3166.760563</td>\n",
       "      <td>2248.4</td>\n",
       "      <td>1.207271</td>\n",
       "      <td>6.267606</td>\n",
       "      <td>0.759631</td>\n",
       "      <td>2.8</td>\n",
       "      <td>3.943662</td>\n",
       "      <td>49576.3</td>\n",
       "      <td>69825.77465</td>\n",
       "      <td>13449.891480</td>\n",
       "    </tr>\n",
       "  </tbody>\n",
       "</table>\n",
       "<p>5 rows × 24 columns</p>\n",
       "</div>"
      ],
      "text/plain": [
       "          Food product  Plant based  Land Use Change  Animal Feed  Farm  \\\n",
       "0  Wheat & Rye (Bread)         True              0.1          0.0   0.8   \n",
       "1         Maize (Meal)         True              0.3          0.0   0.5   \n",
       "2        Barley (Beer)         True              0.0          0.0   0.2   \n",
       "3              Oatmeal         True              0.0          0.0   1.4   \n",
       "4                 Rice         True              0.0          0.0   3.6   \n",
       "\n",
       "   Processing  Transport  Packaging  Retail  Total Emissions  ...  \\\n",
       "0         0.2        0.1        0.1     0.1              1.4  ...   \n",
       "1         0.1        0.1        0.1     0.0              1.1  ...   \n",
       "2         0.1        0.0        0.5     0.3              1.1  ...   \n",
       "3         0.0        0.1        0.1     0.0              1.6  ...   \n",
       "4         0.1        0.1        0.1     0.1              4.0  ...   \n",
       "\n",
       "   Freshwater Withdrawals per 100g Protein (liters per 100g Protein)  \\\n",
       "0                                                NaN                   \n",
       "1                                                NaN                   \n",
       "2                                                NaN                   \n",
       "3                                         371.076923                   \n",
       "4                                        3166.760563                   \n",
       "\n",
       "   Freshwater Withdrawals per kilogram (liters per kilogram)  \\\n",
       "0                                                NaN           \n",
       "1                                                NaN           \n",
       "2                                                NaN           \n",
       "3                                              482.4           \n",
       "4                                             2248.4           \n",
       "\n",
       "   Greenhouse Gas Emissions per 1000kcal (kgCO2eq per 1000kcal)  \\\n",
       "0                                                NaN              \n",
       "1                                                NaN              \n",
       "2                                                NaN              \n",
       "3                                           0.945482              \n",
       "4                                           1.207271              \n",
       "\n",
       "   Greenhouse Gas Emissions per 100g Protein (kgCO2eq per 100g Protein)  \\\n",
       "0                                                NaN                      \n",
       "1                                                NaN                      \n",
       "2                                                NaN                      \n",
       "3                                           1.907692                      \n",
       "4                                           6.267606                      \n",
       "\n",
       "   Land Use per 1000kcal (m2 per 1000kcal)  \\\n",
       "0                                      NaN   \n",
       "1                                      NaN   \n",
       "2                                      NaN   \n",
       "3                                 2.897446   \n",
       "4                                 0.759631   \n",
       "\n",
       "   Land Use per Kilogram (m2 per kilogram)  \\\n",
       "0                                      NaN   \n",
       "1                                      NaN   \n",
       "2                                      NaN   \n",
       "3                                      7.6   \n",
       "4                                      2.8   \n",
       "\n",
       "   Land Use per 100g Protein (m2 per 100g Protein)  \\\n",
       "0                                              NaN   \n",
       "1                                              NaN   \n",
       "2                                              NaN   \n",
       "3                                         5.846154   \n",
       "4                                         3.943662   \n",
       "\n",
       "   Scarcity weighted Water Use per Kilogram (liters per kilogram)  \\\n",
       "0                                                NaN                \n",
       "1                                                NaN                \n",
       "2                                                NaN                \n",
       "3                                            18786.2                \n",
       "4                                            49576.3                \n",
       "\n",
       "   Scarcity weighted Water Use per 100g protein (liters per 100g protein)  \\\n",
       "0                                                NaN                        \n",
       "1                                                NaN                        \n",
       "2                                                NaN                        \n",
       "3                                        14450.92308                        \n",
       "4                                        69825.77465                        \n",
       "\n",
       "   Scarcity weighted Water use per 1000kcal (liters per 1000 kilocalories)  \n",
       "0                                                NaN                        \n",
       "1                                                NaN                        \n",
       "2                                                NaN                        \n",
       "3                                        7162.104461                        \n",
       "4                                       13449.891480                        \n",
       "\n",
       "[5 rows x 24 columns]"
      ]
     },
     "execution_count": 3,
     "metadata": {},
     "output_type": "execute_result"
    }
   ],
   "source": [
    "data.head()"
   ]
  },
  {
   "cell_type": "code",
   "execution_count": 4,
   "metadata": {},
   "outputs": [
    {
     "data": {
      "text/plain": [
       "Food product                                                                object\n",
       "Plant based                                                                   bool\n",
       "Land Use Change                                                            float64\n",
       "Animal Feed                                                                float64\n",
       "Farm                                                                       float64\n",
       "Processing                                                                 float64\n",
       "Transport                                                                  float64\n",
       "Packaging                                                                  float64\n",
       "Retail                                                                     float64\n",
       "Total Emissions                                                            float64\n",
       "Eutrophying Emissions per 1000kcal (gPO4eq per 1000kcal)                   float64\n",
       "Eutrophying Emissions per Kilogram (gPO4eq per kilogram)                   float64\n",
       "Eutrophying Emissions per 100g protein (gPO4eq per 100 grams protein)      float64\n",
       "Freshwater Withdrawals per 1000kcal (liters per 1000kcal)                  float64\n",
       "Freshwater Withdrawals per 100g Protein (liters per 100g Protein)          float64\n",
       "Freshwater Withdrawals per kilogram (liters per kilogram)                  float64\n",
       "Greenhouse Gas Emissions per 1000kcal (kgCO2eq per 1000kcal)               float64\n",
       "Greenhouse Gas Emissions per 100g Protein (kgCO2eq per 100g Protein)       float64\n",
       "Land Use per 1000kcal (m2 per 1000kcal)                                    float64\n",
       "Land Use per Kilogram (m2 per kilogram)                                    float64\n",
       "Land Use per 100g Protein (m2 per 100g Protein)                            float64\n",
       "Scarcity weighted Water Use per Kilogram (liters per kilogram)             float64\n",
       "Scarcity weighted Water Use per 100g protein (liters per 100g protein)     float64\n",
       "Scarcity weighted Water use per 1000kcal (liters per 1000 kilocalories)    float64\n",
       "dtype: object"
      ]
     },
     "execution_count": 4,
     "metadata": {},
     "output_type": "execute_result"
    }
   ],
   "source": [
    "data.dtypes"
   ]
  },
  {
   "cell_type": "code",
   "execution_count": 5,
   "metadata": {},
   "outputs": [],
   "source": [
    "# Imputation of the missing values via arithmetic mean\n",
    "data = data.fillna(data.mean(numeric_only=True))"
   ]
  },
  {
   "cell_type": "code",
   "execution_count": 6,
   "metadata": {},
   "outputs": [],
   "source": [
    "# Split the data between plant based and not, for further analysis \n",
    "data_plant = data[data[\"Plant based\"] == True]\n",
    "data_animal = data[data[\"Plant based\"] == False]"
   ]
  },
  {
   "cell_type": "code",
   "execution_count": 7,
   "metadata": {},
   "outputs": [
    {
     "name": "stdout",
     "output_type": "stream",
     "text": [
      "Plant based average emissions: 2.319\n",
      "Animal-based average emissions: 16.6\n",
      "Plant-based emissions variance: 10.145\n",
      "Animal-based emissions variance: 264.798\n"
     ]
    }
   ],
   "source": [
    "# Calculate mean and variance of the two subsets\n",
    "mean_plant = data_plant[\"Total Emissions\"].mean()\n",
    "mean_animal = data_animal[\"Total Emissions\"].mean()\n",
    "var_plant = data_plant[\"Total Emissions\"].var()\n",
    "var_animal = data_animal[\"Total Emissions\"].var()\n",
    "print(\"Plant based average emissions: \" + str(round(mean_plant, 3)) + \"\\n\" + \n",
    "      \"Animal-based average emissions: \" + str(round(mean_animal, 3)))\n",
    "print(\"Plant-based emissions variance: \" + str(round(var_plant, 3)) + \"\\n\" + \n",
    "      \"Animal-based emissions variance: \" + str(round(var_animal, 3)))"
   ]
  },
  {
   "cell_type": "markdown",
   "metadata": {},
   "source": [
    "We can immediately see that plant based food seems to have an average emission of CO2 way smaller than the one from the animal derivatives data. Naturally, this does not make a sound evidence on its own, in fact we will run hypothesis testing later in order to establish the real meaning of the data."
   ]
  },
  {
   "cell_type": "markdown",
   "metadata": {},
   "source": [
    "## Plots"
   ]
  },
  {
   "cell_type": "markdown",
   "metadata": {},
   "source": [
    "Here follow some plots regarding the data:"
   ]
  },
  {
   "cell_type": "markdown",
   "metadata": {},
   "source": [
    "### Correlation Plot"
   ]
  },
  {
   "cell_type": "code",
   "execution_count": 8,
   "metadata": {},
   "outputs": [
    {
     "name": "stderr",
     "output_type": "stream",
     "text": [
      "C:\\Users\\david\\AppData\\Local\\Temp\\ipykernel_3400\\3428877126.py:21: FutureWarning: The default value of numeric_only in DataFrame.corr is deprecated. In a future version, it will default to False. Select only valid columns or specify the value of numeric_only to silence this warning.\n",
      "  data_corr = data_corr.set_axis(labels, axis=1).corr()\n"
     ]
    },
    {
     "data": {
      "image/png": "[encoded data removed]",
      "text/plain": [
       "<Figure size 550x339.919 with 2 Axes>"
      ]
     },
     "metadata": {},
     "output_type": "display_data"
    }
   ],
   "source": [
    "# for nice plots (svg) in LaTeX math mode:\n",
    "with plt.rc_context(bundles.neurips2022(usetex=True, rel_width=1.0, nrows=1, ncols=1)):\n",
    "    # Setup code\n",
    "    fig, axs = plt.subplots(nrows=1, ncols=1)\n",
    "\n",
    "    # Plotting code\n",
    "    columns = ['Food product', 'Plant based', 'Land Use Change', 'Animal Feed', 'Farm',\n",
    "       'Processing', 'Transport', 'Packaging', 'Retail', 'Total Emissions',\n",
    "       'Freshwater Withdrawals per kilogram (liters per kilogram)',\n",
    "       'Greenhouse Gas Emissions per 1000kcal (kgCO2eq per 1000kcal)',\n",
    "       'Land Use per Kilogram (m2 per kilogram)',\n",
    "       'Scarcity weighted Water Use per Kilogram (liters per kilogram)']\n",
    "    labels = ['Food product', 'Plant based', 'Land Use Change', 'Animal Feed', 'Farm',\n",
    "       'Processing', 'Transport', 'Packaging', 'Retail', 'Total Emissions',\n",
    "       'Freshwater Withdrawals',\n",
    "       'GHG (kgCO2eq per 1000kcal)',\n",
    "       'Land Use',\n",
    "       'Scarcity weighted Water Use']\n",
    "    data_corr = data[columns]\n",
    "    #data_corr = data_corr.set_axis(labels, axis=1).corr(numeric_only=True)\n",
    "    data_corr = data_corr.set_axis(labels, axis=1).corr()\n",
    "    corr_plot = sns.heatmap(data_corr, center=0.0, vmin=-1.0, vmax=1.0, cmap=\"bwr\", ax=axs)\n",
    "    axs.set_aspect(\"equal\")\n",
    "\n",
    "    # Save plot\n",
    "    fig.savefig(\n",
    "    \"../doc/figures/heat-map.pdf\",\n",
    "    bbox_inches=\"tight\",\n",
    "    pad_inches=0.01,\n",
    "    )"
   ]
  },
  {
   "cell_type": "code",
   "execution_count": 9,
   "metadata": {},
   "outputs": [
    {
     "data": {
      "text/html": [
       "<div>\n",
       "<style scoped>\n",
       "    .dataframe tbody tr th:only-of-type {\n",
       "        vertical-align: middle;\n",
       "    }\n",
       "\n",
       "    .dataframe tbody tr th {\n",
       "        vertical-align: top;\n",
       "    }\n",
       "\n",
       "    .dataframe thead th {\n",
       "        text-align: right;\n",
       "    }\n",
       "</style>\n",
       "<table border=\"1\" class=\"dataframe\">\n",
       "  <thead>\n",
       "    <tr style=\"text-align: right;\">\n",
       "      <th></th>\n",
       "      <th>Plant based</th>\n",
       "      <th>Land Use Change</th>\n",
       "      <th>Animal Feed</th>\n",
       "      <th>Farm</th>\n",
       "      <th>Processing</th>\n",
       "      <th>Transport</th>\n",
       "      <th>Packaging</th>\n",
       "      <th>Retail</th>\n",
       "      <th>Total Emissions</th>\n",
       "      <th>Freshwater Withdrawals</th>\n",
       "      <th>GHG (kgCO2eq per 1000kcal)</th>\n",
       "      <th>Land Use</th>\n",
       "      <th>Scarcity weighted Water Use</th>\n",
       "    </tr>\n",
       "  </thead>\n",
       "  <tbody>\n",
       "    <tr>\n",
       "      <th>Plant based</th>\n",
       "      <td>1.000000</td>\n",
       "      <td>-0.458320</td>\n",
       "      <td>-0.851421</td>\n",
       "      <td>-0.536264</td>\n",
       "      <td>-0.349182</td>\n",
       "      <td>-0.119264</td>\n",
       "      <td>0.057836</td>\n",
       "      <td>-0.505005</td>\n",
       "      <td>-0.600367</td>\n",
       "      <td>-0.449268</td>\n",
       "      <td>-0.271364</td>\n",
       "      <td>-0.480653</td>\n",
       "      <td>-0.277247</td>\n",
       "    </tr>\n",
       "    <tr>\n",
       "      <th>Land Use Change</th>\n",
       "      <td>-0.458320</td>\n",
       "      <td>1.000000</td>\n",
       "      <td>0.243624</td>\n",
       "      <td>0.646480</td>\n",
       "      <td>0.466434</td>\n",
       "      <td>0.052339</td>\n",
       "      <td>0.169467</td>\n",
       "      <td>0.182538</td>\n",
       "      <td>0.801875</td>\n",
       "      <td>0.066724</td>\n",
       "      <td>0.548974</td>\n",
       "      <td>0.533847</td>\n",
       "      <td>-0.079672</td>\n",
       "    </tr>\n",
       "    <tr>\n",
       "      <th>Animal Feed</th>\n",
       "      <td>-0.851421</td>\n",
       "      <td>0.243624</td>\n",
       "      <td>1.000000</td>\n",
       "      <td>0.572698</td>\n",
       "      <td>0.426774</td>\n",
       "      <td>0.231742</td>\n",
       "      <td>-0.032542</td>\n",
       "      <td>0.514322</td>\n",
       "      <td>0.574677</td>\n",
       "      <td>0.460723</td>\n",
       "      <td>0.243340</td>\n",
       "      <td>0.497345</td>\n",
       "      <td>0.386113</td>\n",
       "    </tr>\n",
       "    <tr>\n",
       "      <th>Farm</th>\n",
       "      <td>-0.536264</td>\n",
       "      <td>0.646480</td>\n",
       "      <td>0.572698</td>\n",
       "      <td>1.000000</td>\n",
       "      <td>0.704444</td>\n",
       "      <td>0.233778</td>\n",
       "      <td>0.156483</td>\n",
       "      <td>0.389291</td>\n",
       "      <td>0.969024</td>\n",
       "      <td>0.370720</td>\n",
       "      <td>0.663274</td>\n",
       "      <td>0.852641</td>\n",
       "      <td>0.339606</td>\n",
       "    </tr>\n",
       "    <tr>\n",
       "      <th>Processing</th>\n",
       "      <td>-0.349182</td>\n",
       "      <td>0.466434</td>\n",
       "      <td>0.426774</td>\n",
       "      <td>0.704444</td>\n",
       "      <td>1.000000</td>\n",
       "      <td>0.338420</td>\n",
       "      <td>0.397291</td>\n",
       "      <td>0.428702</td>\n",
       "      <td>0.719673</td>\n",
       "      <td>0.296547</td>\n",
       "      <td>0.462464</td>\n",
       "      <td>0.632525</td>\n",
       "      <td>0.363474</td>\n",
       "    </tr>\n",
       "    <tr>\n",
       "      <th>Transport</th>\n",
       "      <td>-0.119264</td>\n",
       "      <td>0.052339</td>\n",
       "      <td>0.231742</td>\n",
       "      <td>0.233778</td>\n",
       "      <td>0.338420</td>\n",
       "      <td>1.000000</td>\n",
       "      <td>0.084875</td>\n",
       "      <td>-0.008222</td>\n",
       "      <td>0.224505</td>\n",
       "      <td>0.039609</td>\n",
       "      <td>0.011924</td>\n",
       "      <td>0.272466</td>\n",
       "      <td>0.192591</td>\n",
       "    </tr>\n",
       "    <tr>\n",
       "      <th>Packaging</th>\n",
       "      <td>0.057836</td>\n",
       "      <td>0.169467</td>\n",
       "      <td>-0.032542</td>\n",
       "      <td>0.156483</td>\n",
       "      <td>0.397291</td>\n",
       "      <td>0.084875</td>\n",
       "      <td>1.000000</td>\n",
       "      <td>0.013043</td>\n",
       "      <td>0.205018</td>\n",
       "      <td>-0.044201</td>\n",
       "      <td>0.453411</td>\n",
       "      <td>0.043185</td>\n",
       "      <td>0.053931</td>\n",
       "    </tr>\n",
       "    <tr>\n",
       "      <th>Retail</th>\n",
       "      <td>-0.505005</td>\n",
       "      <td>0.182538</td>\n",
       "      <td>0.514322</td>\n",
       "      <td>0.389291</td>\n",
       "      <td>0.428702</td>\n",
       "      <td>-0.008222</td>\n",
       "      <td>0.013043</td>\n",
       "      <td>1.000000</td>\n",
       "      <td>0.391958</td>\n",
       "      <td>0.324964</td>\n",
       "      <td>0.299050</td>\n",
       "      <td>0.363358</td>\n",
       "      <td>0.259177</td>\n",
       "    </tr>\n",
       "    <tr>\n",
       "      <th>Total Emissions</th>\n",
       "      <td>-0.600367</td>\n",
       "      <td>0.801875</td>\n",
       "      <td>0.574677</td>\n",
       "      <td>0.969024</td>\n",
       "      <td>0.719673</td>\n",
       "      <td>0.224505</td>\n",
       "      <td>0.205018</td>\n",
       "      <td>0.391958</td>\n",
       "      <td>1.000000</td>\n",
       "      <td>0.324791</td>\n",
       "      <td>0.678707</td>\n",
       "      <td>0.821090</td>\n",
       "      <td>0.257665</td>\n",
       "    </tr>\n",
       "    <tr>\n",
       "      <th>Freshwater Withdrawals</th>\n",
       "      <td>-0.449268</td>\n",
       "      <td>0.066724</td>\n",
       "      <td>0.460723</td>\n",
       "      <td>0.370720</td>\n",
       "      <td>0.296547</td>\n",
       "      <td>0.039609</td>\n",
       "      <td>-0.044201</td>\n",
       "      <td>0.324964</td>\n",
       "      <td>0.324791</td>\n",
       "      <td>1.000000</td>\n",
       "      <td>0.028583</td>\n",
       "      <td>0.266775</td>\n",
       "      <td>0.848295</td>\n",
       "    </tr>\n",
       "    <tr>\n",
       "      <th>GHG (kgCO2eq per 1000kcal)</th>\n",
       "      <td>-0.271364</td>\n",
       "      <td>0.548974</td>\n",
       "      <td>0.243340</td>\n",
       "      <td>0.663274</td>\n",
       "      <td>0.462464</td>\n",
       "      <td>0.011924</td>\n",
       "      <td>0.453411</td>\n",
       "      <td>0.299050</td>\n",
       "      <td>0.678707</td>\n",
       "      <td>0.028583</td>\n",
       "      <td>1.000000</td>\n",
       "      <td>0.470927</td>\n",
       "      <td>-0.030703</td>\n",
       "    </tr>\n",
       "    <tr>\n",
       "      <th>Land Use</th>\n",
       "      <td>-0.480653</td>\n",
       "      <td>0.533847</td>\n",
       "      <td>0.497345</td>\n",
       "      <td>0.852641</td>\n",
       "      <td>0.632525</td>\n",
       "      <td>0.272466</td>\n",
       "      <td>0.043185</td>\n",
       "      <td>0.363358</td>\n",
       "      <td>0.821090</td>\n",
       "      <td>0.266775</td>\n",
       "      <td>0.470927</td>\n",
       "      <td>1.000000</td>\n",
       "      <td>0.341645</td>\n",
       "    </tr>\n",
       "    <tr>\n",
       "      <th>Scarcity weighted Water Use</th>\n",
       "      <td>-0.277247</td>\n",
       "      <td>-0.079672</td>\n",
       "      <td>0.386113</td>\n",
       "      <td>0.339606</td>\n",
       "      <td>0.363474</td>\n",
       "      <td>0.192591</td>\n",
       "      <td>0.053931</td>\n",
       "      <td>0.259177</td>\n",
       "      <td>0.257665</td>\n",
       "      <td>0.848295</td>\n",
       "      <td>-0.030703</td>\n",
       "      <td>0.341645</td>\n",
       "      <td>1.000000</td>\n",
       "    </tr>\n",
       "  </tbody>\n",
       "</table>\n",
       "</div>"
      ],
      "text/plain": [
       "                             Plant based  Land Use Change  Animal Feed  \\\n",
       "Plant based                     1.000000        -0.458320    -0.851421   \n",
       "Land Use Change                -0.458320         1.000000     0.243624   \n",
       "Animal Feed                    -0.851421         0.243624     1.000000   \n",
       "Farm                           -0.536264         0.646480     0.572698   \n",
       "Processing                     -0.349182         0.466434     0.426774   \n",
       "Transport                      -0.119264         0.052339     0.231742   \n",
       "Packaging                       0.057836         0.169467    -0.032542   \n",
       "Retail                         -0.505005         0.182538     0.514322   \n",
       "Total Emissions                -0.600367         0.801875     0.574677   \n",
       "Freshwater Withdrawals         -0.449268         0.066724     0.460723   \n",
       "GHG (kgCO2eq per 1000kcal)     -0.271364         0.548974     0.243340   \n",
       "Land Use                       -0.480653         0.533847     0.497345   \n",
       "Scarcity weighted Water Use    -0.277247        -0.079672     0.386113   \n",
       "\n",
       "                                 Farm  Processing  Transport  Packaging  \\\n",
       "Plant based                 -0.536264   -0.349182  -0.119264   0.057836   \n",
       "Land Use Change              0.646480    0.466434   0.052339   0.169467   \n",
       "Animal Feed                  0.572698    0.426774   0.231742  -0.032542   \n",
       "Farm                         1.000000    0.704444   0.233778   0.156483   \n",
       "Processing                   0.704444    1.000000   0.338420   0.397291   \n",
       "Transport                    0.233778    0.338420   1.000000   0.084875   \n",
       "Packaging                    0.156483    0.397291   0.084875   1.000000   \n",
       "Retail                       0.389291    0.428702  -0.008222   0.013043   \n",
       "Total Emissions              0.969024    0.719673   0.224505   0.205018   \n",
       "Freshwater Withdrawals       0.370720    0.296547   0.039609  -0.044201   \n",
       "GHG (kgCO2eq per 1000kcal)   0.663274    0.462464   0.011924   0.453411   \n",
       "Land Use                     0.852641    0.632525   0.272466   0.043185   \n",
       "Scarcity weighted Water Use  0.339606    0.363474   0.192591   0.053931   \n",
       "\n",
       "                               Retail  Total Emissions  \\\n",
       "Plant based                 -0.505005        -0.600367   \n",
       "Land Use Change              0.182538         0.801875   \n",
       "Animal Feed                  0.514322         0.574677   \n",
       "Farm                         0.389291         0.969024   \n",
       "Processing                   0.428702         0.719673   \n",
       "Transport                   -0.008222         0.224505   \n",
       "Packaging                    0.013043         0.205018   \n",
       "Retail                       1.000000         0.391958   \n",
       "Total Emissions              0.391958         1.000000   \n",
       "Freshwater Withdrawals       0.324964         0.324791   \n",
       "GHG (kgCO2eq per 1000kcal)   0.299050         0.678707   \n",
       "Land Use                     0.363358         0.821090   \n",
       "Scarcity weighted Water Use  0.259177         0.257665   \n",
       "\n",
       "                             Freshwater Withdrawals  \\\n",
       "Plant based                               -0.449268   \n",
       "Land Use Change                            0.066724   \n",
       "Animal Feed                                0.460723   \n",
       "Farm                                       0.370720   \n",
       "Processing                                 0.296547   \n",
       "Transport                                  0.039609   \n",
       "Packaging                                 -0.044201   \n",
       "Retail                                     0.324964   \n",
       "Total Emissions                            0.324791   \n",
       "Freshwater Withdrawals                     1.000000   \n",
       "GHG (kgCO2eq per 1000kcal)                 0.028583   \n",
       "Land Use                                   0.266775   \n",
       "Scarcity weighted Water Use                0.848295   \n",
       "\n",
       "                             GHG (kgCO2eq per 1000kcal)  Land Use  \\\n",
       "Plant based                                   -0.271364 -0.480653   \n",
       "Land Use Change                                0.548974  0.533847   \n",
       "Animal Feed                                    0.243340  0.497345   \n",
       "Farm                                           0.663274  0.852641   \n",
       "Processing                                     0.462464  0.632525   \n",
       "Transport                                      0.011924  0.272466   \n",
       "Packaging                                      0.453411  0.043185   \n",
       "Retail                                         0.299050  0.363358   \n",
       "Total Emissions                                0.678707  0.821090   \n",
       "Freshwater Withdrawals                         0.028583  0.266775   \n",
       "GHG (kgCO2eq per 1000kcal)                     1.000000  0.470927   \n",
       "Land Use                                       0.470927  1.000000   \n",
       "Scarcity weighted Water Use                   -0.030703  0.341645   \n",
       "\n",
       "                             Scarcity weighted Water Use  \n",
       "Plant based                                    -0.277247  \n",
       "Land Use Change                                -0.079672  \n",
       "Animal Feed                                     0.386113  \n",
       "Farm                                            0.339606  \n",
       "Processing                                      0.363474  \n",
       "Transport                                       0.192591  \n",
       "Packaging                                       0.053931  \n",
       "Retail                                          0.259177  \n",
       "Total Emissions                                 0.257665  \n",
       "Freshwater Withdrawals                          0.848295  \n",
       "GHG (kgCO2eq per 1000kcal)                     -0.030703  \n",
       "Land Use                                        0.341645  \n",
       "Scarcity weighted Water Use                     1.000000  "
      ]
     },
     "execution_count": 9,
     "metadata": {},
     "output_type": "execute_result"
    }
   ],
   "source": [
    "data_corr"
   ]
  },
  {
   "cell_type": "code",
   "execution_count": null,
   "metadata": {},
   "outputs": [],
   "source": []
  },
  {
   "cell_type": "markdown",
   "metadata": {},
   "source": [
    "We can observe that the plant based indicator seems inversely correlated with all kinds of emissions, another small hint that plant based food may produce less emissions."
   ]
  },
  {
   "cell_type": "markdown",
   "metadata": {},
   "source": [
    "### Total emissions"
   ]
  },
  {
   "cell_type": "code",
   "execution_count": 10,
   "metadata": {},
   "outputs": [
    {
     "data": {
      "image/png": "[encoded data removed]",
      "text/plain": [
       "<Figure size 275x169.959 with 1 Axes>"
      ]
     },
     "metadata": {},
     "output_type": "display_data"
    }
   ],
   "source": [
    "# for nice plots (svg) in LaTeX math mode:\n",
    "with plt.rc_context(bundles.neurips2022(usetex=True, rel_width=0.5, nrows=1, ncols=1)):\n",
    "    # Setup code\n",
    "    fig, axs = plt.subplots(nrows=1, ncols=1)\n",
    "\n",
    "    # Plotting code\n",
    "    plant_hist = sns.histplot(x=\"Total Emissions\", bins=10, legend=True, \n",
    "                              ax=axs, kde=True, hue=\"Plant based\", data=data)\n",
    "    axs.spines['top'].set_visible(False)\n",
    "    axs.spines['right'].set_visible(False)\n",
    "    # Save plot\n",
    "    fig.savefig(\n",
    "    \"../doc/figures/emissions.pdf\",\n",
    "    bbox_inches=\"tight\",\n",
    "    pad_inches=0.01,\n",
    "    )"
   ]
  },
  {
   "cell_type": "markdown",
   "metadata": {},
   "source": [
    "**Observation**:\n",
    "- plant based emissions look Chi-Squared distributed\n",
    "\n",
    "**Problem**:\n",
    "- most tests assume Gaussian distributed data.\n",
    "So, let's transform data by applying *log* and check out the distribution"
   ]
  },
  {
   "cell_type": "markdown",
   "metadata": {},
   "source": [
    "### Data (Total Emissions) Transformation: log()"
   ]
  },
  {
   "cell_type": "code",
   "execution_count": 11,
   "metadata": {},
   "outputs": [
    {
     "data": {
      "image/png": "[encoded data removed]",
      "text/plain": [
       "<Figure size 275x169.959 with 1 Axes>"
      ]
     },
     "metadata": {},
     "output_type": "display_data"
    }
   ],
   "source": [
    "#### data Transformation:   log()\n",
    "#  for nice plots (svg) in LaTeX math mode:\n",
    "with plt.rc_context(bundles.neurips2022(usetex=True, rel_width=0.5, nrows=1, ncols=1)):\n",
    "    # Setup code\n",
    "    fig, axs = plt.subplots(nrows=1, ncols=1)\n",
    "\n",
    "    # Plotting code\n",
    "    plant_hist = sns.histplot(x=\"Total Emissions\", bins=10, legend=True, \n",
    "                              ax=axs, kde=True, log_scale=True, data=data, hue=\"Plant based\")\n",
    "    axs.spines['top'].set_visible(False)\n",
    "    axs.spines['right'].set_visible(False)\n",
    "\n",
    "    # Save plot\n",
    "    fig.savefig(\n",
    "    \"../doc/figures/emissions-log.pdf\",\n",
    "    bbox_inches=\"tight\",\n",
    "    pad_inches=0.01,\n",
    "    )"
   ]
  },
  {
   "cell_type": "markdown",
   "metadata": {},
   "source": [
    "Now the data shows more recognizable Gaussian distributions."
   ]
  },
  {
   "cell_type": "markdown",
   "metadata": {},
   "source": [
    "### GHG emissions per 1000 kcal"
   ]
  },
  {
   "cell_type": "markdown",
   "metadata": {},
   "source": [
    "We can draw the same plots for the above mentioned column:"
   ]
  },
  {
   "cell_type": "code",
   "execution_count": 12,
   "metadata": {},
   "outputs": [
    {
     "data": {
      "image/png": "[encoded data removed]",
      "text/plain": [
       "<Figure size 275x169.959 with 1 Axes>"
      ]
     },
     "metadata": {},
     "output_type": "display_data"
    }
   ],
   "source": [
    "# original data\n",
    "# for nice plots (svg) in LaTeX math mode:\n",
    "with plt.rc_context(bundles.neurips2022(usetex=True, rel_width=0.5, nrows=1, ncols=1)):\n",
    "    # Setup code\n",
    "    fig, axs = plt.subplots(nrows=1, ncols=1)\n",
    "\n",
    "    # Plotting code\n",
    "    plant_hist = sns.histplot(x=\"Greenhouse Gas Emissions per 1000kcal (kgCO2eq per 1000kcal)\", bins=10, legend=True, \n",
    "                              ax=axs, kde=True, log_scale=False, data=data, hue=\"Plant based\")\n",
    "    axs.spines['top'].set_visible(False)\n",
    "    axs.spines['right'].set_visible(False)\n",
    "    #plt.legend(frameon=False)\n",
    "    # Save plot\n",
    "    fig.savefig(\n",
    "    \"../doc/figures/ghg.pdf\", \n",
    "    bbox_inches=\"tight\",\n",
    "    pad_inches=0.01,\n",
    "    )"
   ]
  },
  {
   "cell_type": "markdown",
   "metadata": {},
   "source": [
    "### Data (GHG emissions per 1000 kcal) Transformation:   log()"
   ]
  },
  {
   "cell_type": "code",
   "execution_count": 13,
   "metadata": {},
   "outputs": [
    {
     "data": {
      "image/png": "[encoded data removed]",
      "text/plain": [
       "<Figure size 275x169.959 with 1 Axes>"
      ]
     },
     "metadata": {},
     "output_type": "display_data"
    }
   ],
   "source": [
    "# for nice plots (pdf) in LaTeX math mode:\n",
    "with plt.rc_context(bundles.neurips2022(usetex=True, rel_width=0.5, nrows=1, ncols=1)):\n",
    "    # Setup code\n",
    "    fig, axs = plt.subplots(nrows=1, ncols=1)\n",
    "\n",
    "    # Plotting code\n",
    "    plant_hist = sns.histplot(x=\"Greenhouse Gas Emissions per 1000kcal (kgCO2eq per 1000kcal)\", bins=10, legend=True, \n",
    "                              ax=axs, kde=True, log_scale=True, data=data, hue=\"Plant based\")\n",
    "\n",
    "    axs.spines['top'].set_visible(False)\n",
    "    axs.spines['right'].set_visible(False)\n",
    "    # Save plot\n",
    "    fig.savefig(\n",
    "    \"../doc/figures/ghg-log.pdf\",\n",
    "    bbox_inches=\"tight\",\n",
    "    pad_inches=0.01,\n",
    "    )"
   ]
  },
  {
   "cell_type": "markdown",
   "metadata": {},
   "source": [
    "### Observation: \n",
    "- Greenhouse Gas Emissions per 1000kcal (kgCO2eq per 1000kcal) feature, when log-transformed, looks even more Gaussian distributed than considering total emissions. We will use this in the next section to perform Hypothesis Testing."
   ]
  },
  {
   "cell_type": "markdown",
   "metadata": {},
   "source": [
    "# Data Analysis\n",
    "\n",
    "## T-Test: Do animal-based and plant-based foods differ significantly in their emissions?\n",
    "\n",
    " We can use Unequal Variance T-Test due to the fact that the two distributions have different sample size and different variance. An implicit assumption of the test is to assume normal distributions. In the data-transformed case, this is reasonable to assume. (see https://www.investopedia.com/terms/t/t-test.asp#toc-which-t-test-to-use) \\\n",
    " As mentioned in the previous section, we will use Greenhouse Gas Emissions per 1000kcal as the investigated feature, as it provides more recognizable Gaussian distributions in the case of the log-transformed data.\n",
    "\n",
    "H_0: There is no difference regarding GHG between plant-based foods and animal-based food categories. \n",
    "\n",
    "H_1: There is a significant difference\n"
   ]
  },
  {
   "cell_type": "markdown",
   "metadata": {},
   "source": [
    "### 1. GHG"
   ]
  },
  {
   "cell_type": "code",
   "execution_count": 14,
   "metadata": {},
   "outputs": [],
   "source": [
    "# Turn data for \"Greenhouse Gas Emissions per 1000kcal (kgCO2eq per 1000kcal\" into array\n",
    "\n",
    "plant_GHG_1000kcal_arr = (data_plant[\"Greenhouse Gas Emissions per 1000kcal (kgCO2eq per 1000kcal)\"]).to_numpy()\n",
    "\n",
    "animal_GHG_1000kcal_arr = (data_animal[\"Greenhouse Gas Emissions per 1000kcal (kgCO2eq per 1000kcal)\"]).to_numpy()"
   ]
  },
  {
   "cell_type": "code",
   "execution_count": null,
   "metadata": {},
   "outputs": [],
   "source": []
  },
  {
   "cell_type": "markdown",
   "metadata": {},
   "source": [
    "The **t-statistic** of $5.03$ quantifies the difference between the arithmetic mean of the two samples.\\\n",
    "The p-value is very small with approx. **$p=0.0000140$** and quantifies the probability of observing similar of more extreme values assuming the Null-Hypothesis is true.\\\n",
    "Since this probability is very small with $p=0.0014\\%$, **we can reject the Null-Hypothesis** and conclude that our data suggests that there is a significant difference in GHG-emissions regarding plant-based and animal based food."
   ]
  },
  {
   "cell_type": "markdown",
   "metadata": {},
   "source": [
    "### 2.  Total emissions"
   ]
  },
  {
   "cell_type": "code",
   "execution_count": 15,
   "metadata": {},
   "outputs": [],
   "source": [
    "# Turn data for \"Greenhouse Gas Emissions per 1000kcal (kgCO2eq per 1000kcal\" into array\n",
    "\n",
    "plant_total_emissions_arr = (data_plant[\"Total Emissions\"]).to_numpy()\n",
    "\n",
    "animal_total_emissions_arr = (data_animal[\"Total Emissions\"]).to_numpy()"
   ]
  },
  {
   "cell_type": "code",
   "execution_count": 16,
   "metadata": {},
   "outputs": [
    {
     "data": {
      "text/plain": [
       "Ttest_indResult(statistic=6.4905738948772385, pvalue=2.202803045851176e-06)"
      ]
     },
     "execution_count": 16,
     "metadata": {},
     "output_type": "execute_result"
    }
   ],
   "source": [
    "# Perform t-test on log-transformed data\n",
    "# Note that the \"equal_var\" flag is set to False, in order to select the right test\n",
    "\n",
    "stats.ttest_ind(np.log10(animal_total_emissions_arr), np.log10(plant_total_emissions_arr), equal_var=False)"
   ]
  },
  {
   "cell_type": "markdown",
   "metadata": {},
   "source": [
    "The **t-statistic** of $6.49$ quantifies the difference between the arithmetic mean of the two samples.\\\n",
    "The p-value is very small with approx. **$p=0.0000022$** and quantifies the probability of observing similar of more extreme values assuming the Null-Hypothesis is true.\\\n",
    "Since this probability is very small with $p=0.00022\\%$, **we can reject the Null-Hypothesis** and conclude that our data suggests that there is a significant difference in Total emissions regarding plant-based and animal based food."
   ]
  },
  {
   "cell_type": "markdown",
   "metadata": {},
   "source": []
  }
 ],
 "metadata": {
  "kernelspec": {
   "display_name": "Python 3 (ipykernel)",
   "language": "python",
   "name": "python3"
  },
  "language_info": {
   "codemirror_mode": {
    "name": "ipython",
    "version": 3
   },
   "file_extension": ".py",
   "mimetype": "text/x-python",
   "name": "python",
   "nbconvert_exporter": "python",
   "pygments_lexer": "ipython3",
   "version": "3.9.15"
  },
  "vscode": {
   "interpreter": {
    "hash": "40d3a090f54c6569ab1632332b64b2c03c39dcf918b08424e98f38b5ae0af88f"
   }
  }
 },
 "nbformat": 4,
 "nbformat_minor": 2
}
