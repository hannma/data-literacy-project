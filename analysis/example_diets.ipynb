{
 "cells": [
  {
   "cell_type": "code",
   "execution_count": 1,
   "metadata": {},
   "outputs": [],
   "source": [
    "import pandas as pd\n",
    "import numpy as np\n",
    "import matplotlib.pyplot as plt\n",
    "%matplotlib inline\n",
    "import seaborn as sns\n",
    "\n",
    "# plots in LaTeX-style\n",
    "import tueplots\n",
    "from tueplots import bundles\n",
    "plt.rcParams.update(bundles.neurips2022())"
   ]
  },
  {
   "cell_type": "code",
   "execution_count": 2,
   "metadata": {},
   "outputs": [],
   "source": [
    "# load data\n",
    "data = pd.read_csv(\"../data/Food_Production.csv\", sep=\";\")"
   ]
  },
  {
   "cell_type": "markdown",
   "metadata": {},
   "source": [
    "# Data exploration"
   ]
  },
  {
   "cell_type": "code",
   "execution_count": 3,
   "metadata": {},
   "outputs": [
    {
     "data": {
      "text/html": [
       "<div>\n",
       "<style scoped>\n",
       "    .dataframe tbody tr th:only-of-type {\n",
       "        vertical-align: middle;\n",
       "    }\n",
       "\n",
       "    .dataframe tbody tr th {\n",
       "        vertical-align: top;\n",
       "    }\n",
       "\n",
       "    .dataframe thead th {\n",
       "        text-align: right;\n",
       "    }\n",
       "</style>\n",
       "<table border=\"1\" class=\"dataframe\">\n",
       "  <thead>\n",
       "    <tr style=\"text-align: right;\">\n",
       "      <th></th>\n",
       "      <th>Food product</th>\n",
       "      <th>Plant based</th>\n",
       "      <th>Land Use Change</th>\n",
       "      <th>Animal Feed</th>\n",
       "      <th>Farm</th>\n",
       "      <th>Processing</th>\n",
       "      <th>Transport</th>\n",
       "      <th>Packaging</th>\n",
       "      <th>Retail</th>\n",
       "      <th>Total Emissions</th>\n",
       "      <th>...</th>\n",
       "      <th>Freshwater Withdrawals per 100g Protein (liters per 100g Protein)</th>\n",
       "      <th>Freshwater Withdrawals per kilogram (liters per kilogram)</th>\n",
       "      <th>Greenhouse Gas Emissions per 1000kcal (kgCO2eq per 1000kcal)</th>\n",
       "      <th>Greenhouse Gas Emissions per 100g Protein (kgCO2eq per 100g Protein)</th>\n",
       "      <th>Land Use per 1000kcal (m2 per 1000kcal)</th>\n",
       "      <th>Land Use per Kilogram (m2 per kilogram)</th>\n",
       "      <th>Land Use per 100g Protein (m2 per 100g Protein)</th>\n",
       "      <th>Scarcity weighted Water Use per Kilogram (liters per kilogram)</th>\n",
       "      <th>Scarcity weighted Water Use per 100g protein (liters per 100g protein)</th>\n",
       "      <th>Scarcity weighted Water use per 1000kcal (liters per 1000 kilocalories)</th>\n",
       "    </tr>\n",
       "  </thead>\n",
       "  <tbody>\n",
       "    <tr>\n",
       "      <th>0</th>\n",
       "      <td>Wheat &amp; Rye (Bread)</td>\n",
       "      <td>1</td>\n",
       "      <td>0.1</td>\n",
       "      <td>0.0</td>\n",
       "      <td>0.8</td>\n",
       "      <td>0.2</td>\n",
       "      <td>0.1</td>\n",
       "      <td>0.1</td>\n",
       "      <td>0.1</td>\n",
       "      <td>1.4</td>\n",
       "      <td>...</td>\n",
       "      <td>NaN</td>\n",
       "      <td>NaN</td>\n",
       "      <td>NaN</td>\n",
       "      <td>NaN</td>\n",
       "      <td>NaN</td>\n",
       "      <td>NaN</td>\n",
       "      <td>NaN</td>\n",
       "      <td>NaN</td>\n",
       "      <td>NaN</td>\n",
       "      <td>NaN</td>\n",
       "    </tr>\n",
       "    <tr>\n",
       "      <th>1</th>\n",
       "      <td>Maize (Meal)</td>\n",
       "      <td>1</td>\n",
       "      <td>0.3</td>\n",
       "      <td>0.0</td>\n",
       "      <td>0.5</td>\n",
       "      <td>0.1</td>\n",
       "      <td>0.1</td>\n",
       "      <td>0.1</td>\n",
       "      <td>0.0</td>\n",
       "      <td>1.1</td>\n",
       "      <td>...</td>\n",
       "      <td>NaN</td>\n",
       "      <td>NaN</td>\n",
       "      <td>NaN</td>\n",
       "      <td>NaN</td>\n",
       "      <td>NaN</td>\n",
       "      <td>NaN</td>\n",
       "      <td>NaN</td>\n",
       "      <td>NaN</td>\n",
       "      <td>NaN</td>\n",
       "      <td>NaN</td>\n",
       "    </tr>\n",
       "    <tr>\n",
       "      <th>2</th>\n",
       "      <td>Barley (Beer)</td>\n",
       "      <td>1</td>\n",
       "      <td>0.0</td>\n",
       "      <td>0.0</td>\n",
       "      <td>0.2</td>\n",
       "      <td>0.1</td>\n",
       "      <td>0.0</td>\n",
       "      <td>0.5</td>\n",
       "      <td>0.3</td>\n",
       "      <td>1.1</td>\n",
       "      <td>...</td>\n",
       "      <td>NaN</td>\n",
       "      <td>NaN</td>\n",
       "      <td>NaN</td>\n",
       "      <td>NaN</td>\n",
       "      <td>NaN</td>\n",
       "      <td>NaN</td>\n",
       "      <td>NaN</td>\n",
       "      <td>NaN</td>\n",
       "      <td>NaN</td>\n",
       "      <td>NaN</td>\n",
       "    </tr>\n",
       "    <tr>\n",
       "      <th>3</th>\n",
       "      <td>Oatmeal</td>\n",
       "      <td>1</td>\n",
       "      <td>0.0</td>\n",
       "      <td>0.0</td>\n",
       "      <td>1.4</td>\n",
       "      <td>0.0</td>\n",
       "      <td>0.1</td>\n",
       "      <td>0.1</td>\n",
       "      <td>0.0</td>\n",
       "      <td>1.6</td>\n",
       "      <td>...</td>\n",
       "      <td>371.076923</td>\n",
       "      <td>482.4</td>\n",
       "      <td>0.945482</td>\n",
       "      <td>1.907692</td>\n",
       "      <td>2.897446</td>\n",
       "      <td>7.6</td>\n",
       "      <td>5.846154</td>\n",
       "      <td>18786.2</td>\n",
       "      <td>14450.92308</td>\n",
       "      <td>7162.104461</td>\n",
       "    </tr>\n",
       "    <tr>\n",
       "      <th>4</th>\n",
       "      <td>Rice</td>\n",
       "      <td>1</td>\n",
       "      <td>0.0</td>\n",
       "      <td>0.0</td>\n",
       "      <td>3.6</td>\n",
       "      <td>0.1</td>\n",
       "      <td>0.1</td>\n",
       "      <td>0.1</td>\n",
       "      <td>0.1</td>\n",
       "      <td>4.0</td>\n",
       "      <td>...</td>\n",
       "      <td>3166.760563</td>\n",
       "      <td>2248.4</td>\n",
       "      <td>1.207271</td>\n",
       "      <td>6.267606</td>\n",
       "      <td>0.759631</td>\n",
       "      <td>2.8</td>\n",
       "      <td>3.943662</td>\n",
       "      <td>49576.3</td>\n",
       "      <td>69825.77465</td>\n",
       "      <td>13449.891480</td>\n",
       "    </tr>\n",
       "  </tbody>\n",
       "</table>\n",
       "<p>5 rows × 24 columns</p>\n",
       "</div>"
      ],
      "text/plain": [
       "          Food product  Plant based  Land Use Change  Animal Feed  Farm  \\\n",
       "0  Wheat & Rye (Bread)            1              0.1          0.0   0.8   \n",
       "1         Maize (Meal)            1              0.3          0.0   0.5   \n",
       "2        Barley (Beer)            1              0.0          0.0   0.2   \n",
       "3              Oatmeal            1              0.0          0.0   1.4   \n",
       "4                 Rice            1              0.0          0.0   3.6   \n",
       "\n",
       "   Processing  Transport  Packaging  Retail  Total Emissions  ...  \\\n",
       "0         0.2        0.1        0.1     0.1              1.4  ...   \n",
       "1         0.1        0.1        0.1     0.0              1.1  ...   \n",
       "2         0.1        0.0        0.5     0.3              1.1  ...   \n",
       "3         0.0        0.1        0.1     0.0              1.6  ...   \n",
       "4         0.1        0.1        0.1     0.1              4.0  ...   \n",
       "\n",
       "   Freshwater Withdrawals per 100g Protein (liters per 100g Protein)  \\\n",
       "0                                                NaN                   \n",
       "1                                                NaN                   \n",
       "2                                                NaN                   \n",
       "3                                         371.076923                   \n",
       "4                                        3166.760563                   \n",
       "\n",
       "   Freshwater Withdrawals per kilogram (liters per kilogram)  \\\n",
       "0                                                NaN           \n",
       "1                                                NaN           \n",
       "2                                                NaN           \n",
       "3                                              482.4           \n",
       "4                                             2248.4           \n",
       "\n",
       "   Greenhouse Gas Emissions per 1000kcal (kgCO2eq per 1000kcal)  \\\n",
       "0                                                NaN              \n",
       "1                                                NaN              \n",
       "2                                                NaN              \n",
       "3                                           0.945482              \n",
       "4                                           1.207271              \n",
       "\n",
       "   Greenhouse Gas Emissions per 100g Protein (kgCO2eq per 100g Protein)  \\\n",
       "0                                                NaN                      \n",
       "1                                                NaN                      \n",
       "2                                                NaN                      \n",
       "3                                           1.907692                      \n",
       "4                                           6.267606                      \n",
       "\n",
       "   Land Use per 1000kcal (m2 per 1000kcal)  \\\n",
       "0                                      NaN   \n",
       "1                                      NaN   \n",
       "2                                      NaN   \n",
       "3                                 2.897446   \n",
       "4                                 0.759631   \n",
       "\n",
       "   Land Use per Kilogram (m2 per kilogram)  \\\n",
       "0                                      NaN   \n",
       "1                                      NaN   \n",
       "2                                      NaN   \n",
       "3                                      7.6   \n",
       "4                                      2.8   \n",
       "\n",
       "   Land Use per 100g Protein (m2 per 100g Protein)  \\\n",
       "0                                              NaN   \n",
       "1                                              NaN   \n",
       "2                                              NaN   \n",
       "3                                         5.846154   \n",
       "4                                         3.943662   \n",
       "\n",
       "   Scarcity weighted Water Use per Kilogram (liters per kilogram)  \\\n",
       "0                                                NaN                \n",
       "1                                                NaN                \n",
       "2                                                NaN                \n",
       "3                                            18786.2                \n",
       "4                                            49576.3                \n",
       "\n",
       "   Scarcity weighted Water Use per 100g protein (liters per 100g protein)  \\\n",
       "0                                                NaN                        \n",
       "1                                                NaN                        \n",
       "2                                                NaN                        \n",
       "3                                        14450.92308                        \n",
       "4                                        69825.77465                        \n",
       "\n",
       "   Scarcity weighted Water use per 1000kcal (liters per 1000 kilocalories)  \n",
       "0                                                NaN                        \n",
       "1                                                NaN                        \n",
       "2                                                NaN                        \n",
       "3                                        7162.104461                        \n",
       "4                                       13449.891480                        \n",
       "\n",
       "[5 rows x 24 columns]"
      ]
     },
     "execution_count": 3,
     "metadata": {},
     "output_type": "execute_result"
    }
   ],
   "source": [
    "\n",
    "data.head()"
   ]
  },
  {
   "cell_type": "code",
   "execution_count": 4,
   "metadata": {},
   "outputs": [
    {
     "data": {
      "text/plain": [
       "Index(['Food product', 'Plant based', 'Land Use Change', 'Animal Feed', 'Farm',\n",
       "       'Processing', 'Transport', 'Packaging', 'Retail', 'Total Emissions',\n",
       "       'Eutrophying Emissions per 1000kcal (gPO4eq per 1000kcal)',\n",
       "       'Eutrophying Emissions per Kilogram (gPO4eq per kilogram)',\n",
       "       'Eutrophying Emissions per 100g protein (gPO4eq per 100 grams protein)',\n",
       "       'Freshwater Withdrawals per 1000kcal (liters per 1000kcal)',\n",
       "       'Freshwater Withdrawals per 100g Protein (liters per 100g Protein)',\n",
       "       'Freshwater Withdrawals per kilogram (liters per kilogram)',\n",
       "       'Greenhouse Gas Emissions per 1000kcal (kgCO2eq per 1000kcal)',\n",
       "       'Greenhouse Gas Emissions per 100g Protein (kgCO2eq per 100g Protein)',\n",
       "       'Land Use per 1000kcal (m2 per 1000kcal)',\n",
       "       'Land Use per Kilogram (m2 per kilogram)',\n",
       "       'Land Use per 100g Protein (m2 per 100g Protein)',\n",
       "       'Scarcity weighted Water Use per Kilogram (liters per kilogram)',\n",
       "       'Scarcity weighted Water Use per 100g protein (liters per 100g protein)',\n",
       "       'Scarcity weighted Water use per 1000kcal (liters per 1000 kilocalories)'],\n",
       "      dtype='object')"
      ]
     },
     "execution_count": 4,
     "metadata": {},
     "output_type": "execute_result"
    }
   ],
   "source": [
    "data.columns"
   ]
  },
  {
   "cell_type": "code",
   "execution_count": 5,
   "metadata": {},
   "outputs": [],
   "source": [
    "# Imputation of the missing values via arithmetic mean\n",
    "data = data.fillna(data.mean(numeric_only=True))"
   ]
  },
  {
   "cell_type": "code",
   "execution_count": 6,
   "metadata": {},
   "outputs": [],
   "source": [
    "data_plant = data[data[\"Plant based\"] == True]\n",
    "data_animal = data[data[\"Plant based\"] == False]"
   ]
  },
  {
   "attachments": {},
   "cell_type": "markdown",
   "metadata": {},
   "source": [
    "# **Example diet comparison**\n",
    "\n",
    "Let us now compare two samples of an average omnivor diet and an average plant based diet, in order to see the difference in the emissions.\n",
    "\n",
    "Biggest UK health website suggests 2000kcal for an average woman: [NHS UK](https://www.nhs.uk/live-well/healthy-weight/managing-your-weight/understanding-calories/#:~:text=As%20a%20guide%2C%20an%20average,physical%20activity%2C%20among%20other%20factors).\n",
    "\n",
    "The division among macronutrients is taken as follows from [healthline](https://www.healthline.com/nutrition/best-macronutrient-ratio):\n",
    "\n",
    "*   45–65% of the calories from carbs (225g-325g in our case)\n",
    "*   20–35% of the calories from fats (45g-78g in our case)\n",
    "*   10–35% of the calories from proteins (50g-175g in our case)"
   ]
  },
  {
   "cell_type": "code",
   "execution_count": 7,
   "metadata": {},
   "outputs": [
    {
     "data": {
      "image/png": "[encoded data removed]",
      "text/plain": [
       "<Figure size 360x360 with 2 Axes>"
      ]
     },
     "metadata": {
      "needs_background": "light"
     },
     "output_type": "display_data"
    }
   ],
   "source": [
    "# for nice plots (svg) in LaTeX math mode:\n",
    "with plt.rc_context(bundles.neurips2022(usetex=True, rel_width=0.5, nrows=1, ncols=1)):\n",
    "    # Setup code\n",
    "    fig, axs = plt.subplots(nrows=1, ncols=1, figsize = (5,5))\n",
    "\n",
    "    # Plotting code\n",
    "    columns = ['Food product', 'Plant based', 'Land Use Change', 'Animal Feed', 'Farm',\n",
    "       'Processing', 'Transport', 'Packaging', 'Retail', 'Total Emissions',\n",
    "       'Freshwater Withdrawals per kilogram (liters per kilogram)',\n",
    "       'Greenhouse Gas Emissions per 1000kcal (kgCO2eq per 1000kcal)',\n",
    "       'Land Use per Kilogram (m2 per kilogram)',\n",
    "       'Scarcity weighted Water Use per Kilogram (liters per kilogram)']\n",
    "    labels = ['Food product', 'Plant based', 'Land Use Change', 'Animal Feed', 'Farm',\n",
    "       'Processing', 'Transport', 'Packaging', 'Retail', 'Total Emissions',\n",
    "       'Freshwater Withdrawals',\n",
    "       'Greenhouse Gas Emissions',\n",
    "       'Land Use',\n",
    "       'Scarcity weighted Water Use']\n",
    "    data_corr = data[columns]\n",
    "    #data_corr = data_corr.set_axis(labels, axis=1).corr(numeric_only=True)\n",
    "    data_corr = data_corr.set_axis(labels, axis=1).corr()\n",
    "    corr_plot = sns.heatmap(data_corr, ax=axs)\n",
    "\n",
    "    # Save plot\n",
    "    fig.savefig(\n",
    "    \"figures/corrplot.pdf\",\n",
    "    bbox_inches=\"tight\",\n",
    "    pad_inches=0.01,\n",
    "    )"
   ]
  },
  {
   "cell_type": "code",
   "execution_count": 8,
   "metadata": {},
   "outputs": [],
   "source": [
    "# List of tuples (food, grams) of the diet\n",
    "diet = [(\"Wheat & Rye (Bread)\", 400), \n",
    "        (\"Pig Meat\", 200),\n",
    "        (\"Bananas\", 300),\n",
    "        (\"Cheese\", 150)]"
   ]
  },
  {
   "cell_type": "code",
   "execution_count": 14,
   "metadata": {},
   "outputs": [],
   "source": [
    "# Function to sum the emission of every food in the diet, with the relative quantity\n",
    "def calculate_diet_emissions(diet, data):\n",
    "  tot_emissions = 0\n",
    "  for item in diet:\n",
    "    food_emissions = data[data[\"Food product\"] == item[0]][\"Total Emissions\"]\n",
    "    item_emissions = food_emissions * item[1] / 1000\n",
    "    tot_emissions += item_emissions.values[0]\n",
    "  return tot_emissions"
   ]
  },
  {
   "cell_type": "code",
   "execution_count": 15,
   "metadata": {},
   "outputs": [
    {
     "name": "stdout",
     "output_type": "stream",
     "text": [
      "The example omnivor diet produces 5.42kg of CO2 per day on average.\n"
     ]
    }
   ],
   "source": [
    "emissions_omnivor = calculate_diet_emissions(diet, data)\n",
    "print(\"The example omnivor diet produces \" + str(emissions_omnivor) + \"kg of CO2 per day on average.\")"
   ]
  },
  {
   "cell_type": "code",
   "execution_count": 17,
   "metadata": {},
   "outputs": [
    {
     "data": {
      "image/png": "[encoded data removed]",
      "text/plain": [
       "<Figure size 198x122.371 with 1 Axes>"
      ]
     },
     "metadata": {
      "needs_background": "light"
     },
     "output_type": "display_data"
    }
   ],
   "source": [
    "# for nice plots (svg) in LaTeX math mode:\n",
    "with plt.rc_context(bundles.neurips2022(usetex=True, rel_width=0.5, nrows=1, ncols=1)):\n",
    "    # Setup code\n",
    "    fig, axs = plt.subplots(nrows=1, ncols=1)\n",
    "\n",
    "    # Plotting code\n",
    "    plant_hist = sns.histplot(x=\"Total Emissions\", bins=10, legend=True, \n",
    "                              ax=axs, kde=True, hue=\"Plant based\", data=data)\n",
    "    plt.legend(title='Plant based', loc='upper right', labels=['No', 'Yes'])\n",
    "    plt.title(\"Total emissions for plant-based and animal-based food categories\")\n",
    "    # Save plot\n",
    "    # fig.savefig(\n",
    "    # \"figures/testplot.pdf\",\n",
    "    # bbox_inches=\"tight\",\n",
    "    # pad_inches=0.01,\n",
    "    # )"
   ]
  },
  {
   "cell_type": "markdown",
   "metadata": {},
   "source": [
    "Observation:\n",
    "- plant based emissions look chi-squared distributed\n",
    "\n",
    "Problem:\n",
    "-  Most tests assume gaussian distributed data.\n",
    "So, let's transform data by applying  log and check out the distribution"
   ]
  },
  {
   "cell_type": "markdown",
   "metadata": {},
   "source": [
    "### data Transformation:   log()"
   ]
  },
  {
   "cell_type": "code",
   "execution_count": 16,
   "metadata": {},
   "outputs": [
    {
     "data": {
      "image/png": "[encoded data removed]",
      "text/plain": [
       "<Figure size 198x122.371 with 1 Axes>"
      ]
     },
     "metadata": {
      "needs_background": "light"
     },
     "output_type": "display_data"
    }
   ],
   "source": [
    "# for nice plots (svg) in LaTeX math mode:\n",
    "with plt.rc_context(bundles.neurips2022(usetex=True, rel_width=0.5, nrows=1, ncols=1)):\n",
    "    # Setup code\n",
    "    fig, axs = plt.subplots(nrows=1, ncols=1)\n",
    "\n",
    "    # Plotting code\n",
    "    plant_hist = sns.histplot(x=\"Total Emissions\", bins=10, legend=True, \n",
    "                              ax=axs, kde=True, log_scale=True, data=data, hue=\"Plant based\")\n",
    "    plt.legend(title='Plant based', loc='upper right', labels=['No', 'Yes'])\n",
    "    plt.title(\"log-transformed data: Total emissions\")\n",
    "    # Save plot\n",
    "    fig.savefig(\n",
    "    \"figures/logplot.pdf\",\n",
    "    bbox_inches=\"tight\",\n",
    "    pad_inches=0.01,\n",
    "    )"
   ]
  },
  {
   "cell_type": "markdown",
   "metadata": {},
   "source": [
    "### TODO:\n",
    "- Test (and why this test)\n",
    "    - depict reasoning as to why log scale and respective t-test plotting one w/o log-scale --> similar to chi-squared distribution, plus plot in log-scale, which shows a distribution mor similar to a normal distribution. \n",
    "    - experiment with kde, maybe no histogram but only kde and mean"
   ]
  },
  {
   "attachments": {},
   "cell_type": "markdown",
   "metadata": {},
   "source": [
    "### TODO:\n",
    "- Add Legend:\n",
    "    -   put animal and plant based column in one df so that plotting with legend will be possible \n",
    "- Test (and why this test)\n",
    "    - depict reasoning as to why log scale and respective t-test plotting one w/o log-scale --> similar to chi-squared distribution, plus plot in log-scale, which shows a distribution mor similar to a normal distribution. \n",
    "    - experiment with kde, maybe no histogram but only kde and mean"
   ]
  },
  {
   "cell_type": "markdown",
   "metadata": {},
   "source": [
    "# Data Analysis\n",
    "\n",
    "## T-Tests\n",
    "\n",
    "H_0:\n",
    "\n",
    "H_1:\n"
   ]
  },
  {
   "cell_type": "markdown",
   "metadata": {},
   "source": []
  }
 ],
 "metadata": {
  "kernelspec": {
   "display_name": "Python 3 (ipykernel)",
   "language": "python",
   "name": "python3"
  },
  "language_info": {
   "codemirror_mode": {
    "name": "ipython",
    "version": 3
   },
   "file_extension": ".py",
   "mimetype": "text/x-python",
   "name": "python",
   "nbconvert_exporter": "python",
   "pygments_lexer": "ipython3",
   "version": "3.7.11"
  },
  "vscode": {
   "interpreter": {
    "hash": "40d3a090f54c6569ab1632332b64b2c03c39dcf918b08424e98f38b5ae0af88f"
   }
  }
 },
 "nbformat": 4,
 "nbformat_minor": 2
}
